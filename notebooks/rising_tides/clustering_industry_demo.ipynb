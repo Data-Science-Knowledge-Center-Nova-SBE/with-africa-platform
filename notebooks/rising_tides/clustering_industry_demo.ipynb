{
 "cells": [
  {
   "cell_type": "code",
   "execution_count": 1,
   "metadata": {},
   "outputs": [
    {
     "data": {
      "text/html": [
       "<div>\n",
       "<style scoped>\n",
       "    .dataframe tbody tr th:only-of-type {\n",
       "        vertical-align: middle;\n",
       "    }\n",
       "\n",
       "    .dataframe tbody tr th {\n",
       "        vertical-align: top;\n",
       "    }\n",
       "\n",
       "    .dataframe thead th {\n",
       "        text-align: right;\n",
       "    }\n",
       "</style>\n",
       "<table border=\"1\" class=\"dataframe\">\n",
       "  <thead>\n",
       "    <tr style=\"text-align: right;\">\n",
       "      <th></th>\n",
       "      <th>iso3_country_code</th>\n",
       "      <th>indicator_year</th>\n",
       "      <th>indicator_value</th>\n",
       "      <th>indicator_ddt_name</th>\n",
       "      <th>indicator_source</th>\n",
       "      <th>indicator_ddt_cat</th>\n",
       "      <th>country_name</th>\n",
       "      <th>region_name</th>\n",
       "      <th>units</th>\n",
       "    </tr>\n",
       "  </thead>\n",
       "  <tbody>\n",
       "    <tr>\n",
       "      <th>0</th>\n",
       "      <td>DZA</td>\n",
       "      <td>1995</td>\n",
       "      <td>520.0</td>\n",
       "      <td>Total International Arrivals</td>\n",
       "      <td>UNWTO</td>\n",
       "      <td>Inbound Tourism-Arrivals</td>\n",
       "      <td>Algeria</td>\n",
       "      <td>Northern Africa</td>\n",
       "      <td>Thousands</td>\n",
       "    </tr>\n",
       "    <tr>\n",
       "      <th>1</th>\n",
       "      <td>AGO</td>\n",
       "      <td>1995</td>\n",
       "      <td>9.0</td>\n",
       "      <td>Total International Overnight Visitors (Tourists)</td>\n",
       "      <td>UNWTO</td>\n",
       "      <td>Inbound Tourism-Arrivals</td>\n",
       "      <td>Angola</td>\n",
       "      <td>Central Africa</td>\n",
       "      <td>Thousands</td>\n",
       "    </tr>\n",
       "    <tr>\n",
       "      <th>2</th>\n",
       "      <td>BEN</td>\n",
       "      <td>1995</td>\n",
       "      <td>580.0</td>\n",
       "      <td>Total International Arrivals</td>\n",
       "      <td>UNWTO</td>\n",
       "      <td>Inbound Tourism-Arrivals</td>\n",
       "      <td>Benin</td>\n",
       "      <td>Western Africa</td>\n",
       "      <td>Thousands</td>\n",
       "    </tr>\n",
       "    <tr>\n",
       "      <th>3</th>\n",
       "      <td>BEN</td>\n",
       "      <td>1995</td>\n",
       "      <td>138.0</td>\n",
       "      <td>Total International Overnight Visitors (Tourists)</td>\n",
       "      <td>UNWTO</td>\n",
       "      <td>Inbound Tourism-Arrivals</td>\n",
       "      <td>Benin</td>\n",
       "      <td>Western Africa</td>\n",
       "      <td>Thousands</td>\n",
       "    </tr>\n",
       "    <tr>\n",
       "      <th>4</th>\n",
       "      <td>BWA</td>\n",
       "      <td>1995</td>\n",
       "      <td>636.0</td>\n",
       "      <td>Total International Arrivals</td>\n",
       "      <td>UNWTO</td>\n",
       "      <td>Inbound Tourism-Arrivals</td>\n",
       "      <td>Botswana</td>\n",
       "      <td>Southern Africa</td>\n",
       "      <td>Thousands</td>\n",
       "    </tr>\n",
       "  </tbody>\n",
       "</table>\n",
       "</div>"
      ],
      "text/plain": [
       "  iso3_country_code  indicator_year  indicator_value  \\\n",
       "0               DZA            1995            520.0   \n",
       "1               AGO            1995              9.0   \n",
       "2               BEN            1995            580.0   \n",
       "3               BEN            1995            138.0   \n",
       "4               BWA            1995            636.0   \n",
       "\n",
       "                                  indicator_ddt_name indicator_source  \\\n",
       "0                       Total International Arrivals            UNWTO   \n",
       "1  Total International Overnight Visitors (Tourists)            UNWTO   \n",
       "2                       Total International Arrivals            UNWTO   \n",
       "3  Total International Overnight Visitors (Tourists)            UNWTO   \n",
       "4                       Total International Arrivals            UNWTO   \n",
       "\n",
       "          indicator_ddt_cat country_name      region_name      units  \n",
       "0  Inbound Tourism-Arrivals      Algeria  Northern Africa  Thousands  \n",
       "1  Inbound Tourism-Arrivals       Angola   Central Africa  Thousands  \n",
       "2  Inbound Tourism-Arrivals        Benin   Western Africa  Thousands  \n",
       "3  Inbound Tourism-Arrivals        Benin   Western Africa  Thousands  \n",
       "4  Inbound Tourism-Arrivals     Botswana  Southern Africa  Thousands  "
      ]
     },
     "execution_count": 1,
     "metadata": {},
     "output_type": "execute_result"
    }
   ],
   "source": [
    "import pandas as pd\n",
    "from sklearn.preprocessing import StandardScaler\n",
    "from sklearn.cluster import KMeans\n",
    "from sklearn.decomposition import PCA, FactorAnalysis\n",
    "import matplotlib.pyplot as plt\n",
    "\n",
    "df_complete = pd.read_excel(r'../../datasets/ddt/ddt_complete.xlsx')\n",
    "df_complete = df_complete.drop(columns=['Unnamed: 0'])\n",
    "# Display the first few rows of the merged dataframe\n",
    "df_complete.head()"
   ]
  },
  {
   "cell_type": "code",
   "execution_count": 2,
   "metadata": {},
   "outputs": [],
   "source": [
    "df_parks = pd.read_excel(r'../../datasets/dashboards/country_cultural.xlsx', sheet_name=0, names=['countryLabel', 'iso3', 'parkLabel'])\n",
    "df_sports = pd.read_excel(r'../../datasets/dashboards/country_cultural.xlsx', sheet_name=0, names=['countryLabel', 'iso3', 'parkLabel'])\n",
    "df_protected = pd.read_excel(r'../../datasets/dashboards/country_cultural.xlsx', sheet_name=0, names=['countryLabel', 'iso3', 'parkLabel'])\n",
    "df_relig = pd.read_excel(r'../../datasets/dashboards/country_cultural.xlsx', sheet_name=0, names=['countryLabel', 'iso3', 'parkLabel'])\n",
    "df_unesco= pd.read_excel(r'../../datasets/dashboards/country_cultural.xlsx', sheet_name=0, names=['countryLabel', 'iso3', 'category'])"
   ]
  },
  {
   "cell_type": "code",
   "execution_count": 19,
   "metadata": {},
   "outputs": [],
   "source": [
    "df_ookla = pd.read_excel(r\"../../datasets/general/ookla_speed_test.xlsx\")\n",
    "df_global_peace = pd.read_excel(r\"../../datasets/general/global_peace_index_2024.xlsx\")\n",
    "df_iata = pd.read_excel(r\"../../datasets/research/iata_afr_airlines.xlsx\")\n",
    "df_visa= pd.read_excel(r\"../../datasets/research/business_report/visa_open.xlsx\")\n"
   ]
  },
  {
   "cell_type": "code",
   "execution_count": 20,
   "metadata": {},
   "outputs": [],
   "source": [
    "df_global_peace['score'] = df_global_peace.groupby('region_name')['score'].transform(lambda x: x.fillna(x.mean()))\n",
    "\n",
    "\n",
    "df_ookla['Country'] = df_ookla['Country'].str.strip()\n",
    "df_ookla.rename(columns={'Country':'country_name', 'Mbps':'internet_speed'},inplace=True)\n",
    "df_ookla = df_ookla[df_ookla['country_name'].isin(df_global_peace['country_name'])]\n",
    "df_combined = df_global_peace.merge(df_ookla[['country_name', 'internet_speed']], on=['country_name'], how='left')\n",
    "\n",
    "df_iata = df_iata.groupby('Territory').count()\n",
    "df_iata = df_iata[['Airline Name']]\n",
    "df_iata = df_iata.reset_index()\n",
    "df_iata = df_iata.rename(columns={'Territory': 'country_name', 'Airline Name': 'num_airlines'})\n",
    "\n",
    "\n",
    "df_combined = df_combined.merge(df_iata[['country_name', 'num_airlines']], on=['country_name'], how='left')\n",
    "df_combined['internet_speed'] = df_combined.groupby('region_name')['internet_speed'].transform(lambda x: x.fillna(x.mean()))\n",
    "df_combined['num_airlines'] = df_combined['num_airlines'].fillna(value=0)\n",
    "df_combined['peace_inverted'] = 1 / df_combined['score']\n",
    "df_combined.drop(columns=['ranking', 'score'], inplace=True)\n"
   ]
  },
  {
   "cell_type": "code",
   "execution_count": 23,
   "metadata": {},
   "outputs": [],
   "source": [
    "df_visa.rename(columns={'Score':'visa_score', 'Country' : 'country_name'}, inplace=True)\n",
    "df_combined = df_combined.merge(df_visa[['visa_score', 'country_name']], on='country_name', how='left')"
   ]
  },
  {
   "cell_type": "code",
   "execution_count": 43,
   "metadata": {},
   "outputs": [],
   "source": [
    "# Select only relevant data\n",
    "filtered_data = df_complete[\n",
    "    (df_complete['indicator_ddt_name'].isin([\n",
    "        'Total Expenditure on Inbound Tourism', 'Total Expenditure on Outbound Tourism',\n",
    "        'Total International Arrivals',\n",
    "        'Total Number of Establishments',  'Total Number of Rooms', 'Total Number of Bed Places',\n",
    "        'Total (Employment)'\n",
    "    ]))]\n",
    "filtered_data = filtered_data.dropna(subset=['indicator_value'])\n",
    "# Sort by country and indicator year in descending order\n",
    "df_sorted = filtered_data.sort_values(by=['iso3_country_code', 'indicator_year'], ascending=[True, False])\n",
    "\n",
    "# Drop duplicates to get the latest year per country\n",
    "df_latest = df_sorted.drop_duplicates(subset=['iso3_country_code', 'indicator_ddt_name'], keep='first')\n"
   ]
  },
  {
   "cell_type": "code",
   "execution_count": 84,
   "metadata": {},
   "outputs": [
    {
     "data": {
      "text/html": [
       "<div>\n",
       "<style scoped>\n",
       "    .dataframe tbody tr th:only-of-type {\n",
       "        vertical-align: middle;\n",
       "    }\n",
       "\n",
       "    .dataframe tbody tr th {\n",
       "        vertical-align: top;\n",
       "    }\n",
       "\n",
       "    .dataframe thead th {\n",
       "        text-align: right;\n",
       "    }\n",
       "</style>\n",
       "<table border=\"1\" class=\"dataframe\">\n",
       "  <thead>\n",
       "    <tr style=\"text-align: right;\">\n",
       "      <th></th>\n",
       "      <th>iso3_country_code</th>\n",
       "      <th>indicator_year</th>\n",
       "      <th>indicator_value</th>\n",
       "      <th>indicator_ddt_name</th>\n",
       "      <th>indicator_source</th>\n",
       "      <th>indicator_ddt_cat</th>\n",
       "      <th>country_name</th>\n",
       "      <th>region_name</th>\n",
       "      <th>units</th>\n",
       "    </tr>\n",
       "  </thead>\n",
       "  <tbody>\n",
       "    <tr>\n",
       "      <th>2138</th>\n",
       "      <td>DZA</td>\n",
       "      <td>2022</td>\n",
       "      <td>1398.0</td>\n",
       "      <td>Total International Arrivals</td>\n",
       "      <td>UNWTO</td>\n",
       "      <td>Inbound Tourism-Arrivals</td>\n",
       "      <td>Algeria</td>\n",
       "      <td>Northern Africa</td>\n",
       "      <td>Thousands</td>\n",
       "    </tr>\n",
       "    <tr>\n",
       "      <th>24421</th>\n",
       "      <td>DZA</td>\n",
       "      <td>2022</td>\n",
       "      <td>1576.0</td>\n",
       "      <td>Total Number of Establishments</td>\n",
       "      <td>UNWTO</td>\n",
       "      <td>Tourism Industries</td>\n",
       "      <td>Algeria</td>\n",
       "      <td>Northern Africa</td>\n",
       "      <td>Units</td>\n",
       "    </tr>\n",
       "    <tr>\n",
       "      <th>24422</th>\n",
       "      <td>DZA</td>\n",
       "      <td>2022</td>\n",
       "      <td>145526.0</td>\n",
       "      <td>Total Number of Bed Places</td>\n",
       "      <td>UNWTO</td>\n",
       "      <td>Tourism Industries</td>\n",
       "      <td>Algeria</td>\n",
       "      <td>Northern Africa</td>\n",
       "      <td>Units</td>\n",
       "    </tr>\n",
       "    <tr>\n",
       "      <th>25438</th>\n",
       "      <td>DZA</td>\n",
       "      <td>2022</td>\n",
       "      <td>219.1</td>\n",
       "      <td>Total Expenditure on Inbound Tourism</td>\n",
       "      <td>UNWTO</td>\n",
       "      <td>Inbound Tourism-Expenditure</td>\n",
       "      <td>Algeria</td>\n",
       "      <td>Northern Africa</td>\n",
       "      <td>US$ Millions</td>\n",
       "    </tr>\n",
       "    <tr>\n",
       "      <th>26684</th>\n",
       "      <td>DZA</td>\n",
       "      <td>2022</td>\n",
       "      <td>443.5</td>\n",
       "      <td>Total Expenditure on Outbound Tourism</td>\n",
       "      <td>UNWTO</td>\n",
       "      <td>Outbound Tourism-Expenditure</td>\n",
       "      <td>Algeria</td>\n",
       "      <td>Northern Africa</td>\n",
       "      <td>US$ Millions</td>\n",
       "    </tr>\n",
       "    <tr>\n",
       "      <th>25248</th>\n",
       "      <td>DZA</td>\n",
       "      <td>2019</td>\n",
       "      <td>320.0</td>\n",
       "      <td>Total (Employment)</td>\n",
       "      <td>UNWTO</td>\n",
       "      <td>Employment</td>\n",
       "      <td>Algeria</td>\n",
       "      <td>Northern Africa</td>\n",
       "      <td>Thousands</td>\n",
       "    </tr>\n",
       "    <tr>\n",
       "      <th>20390</th>\n",
       "      <td>DZA</td>\n",
       "      <td>1997</td>\n",
       "      <td>32837.0</td>\n",
       "      <td>Total Number of Rooms</td>\n",
       "      <td>UNWTO</td>\n",
       "      <td>Tourism Industries</td>\n",
       "      <td>Algeria</td>\n",
       "      <td>Northern Africa</td>\n",
       "      <td>Units</td>\n",
       "    </tr>\n",
       "  </tbody>\n",
       "</table>\n",
       "</div>"
      ],
      "text/plain": [
       "      iso3_country_code  indicator_year  indicator_value  \\\n",
       "2138                DZA            2022           1398.0   \n",
       "24421               DZA            2022           1576.0   \n",
       "24422               DZA            2022         145526.0   \n",
       "25438               DZA            2022            219.1   \n",
       "26684               DZA            2022            443.5   \n",
       "25248               DZA            2019            320.0   \n",
       "20390               DZA            1997          32837.0   \n",
       "\n",
       "                          indicator_ddt_name indicator_source  \\\n",
       "2138            Total International Arrivals            UNWTO   \n",
       "24421         Total Number of Establishments            UNWTO   \n",
       "24422             Total Number of Bed Places            UNWTO   \n",
       "25438   Total Expenditure on Inbound Tourism            UNWTO   \n",
       "26684  Total Expenditure on Outbound Tourism            UNWTO   \n",
       "25248                     Total (Employment)            UNWTO   \n",
       "20390                  Total Number of Rooms            UNWTO   \n",
       "\n",
       "                  indicator_ddt_cat country_name      region_name  \\\n",
       "2138       Inbound Tourism-Arrivals      Algeria  Northern Africa   \n",
       "24421            Tourism Industries      Algeria  Northern Africa   \n",
       "24422            Tourism Industries      Algeria  Northern Africa   \n",
       "25438   Inbound Tourism-Expenditure      Algeria  Northern Africa   \n",
       "26684  Outbound Tourism-Expenditure      Algeria  Northern Africa   \n",
       "25248                    Employment      Algeria  Northern Africa   \n",
       "20390            Tourism Industries      Algeria  Northern Africa   \n",
       "\n",
       "              units  \n",
       "2138      Thousands  \n",
       "24421         Units  \n",
       "24422         Units  \n",
       "25438  US$ Millions  \n",
       "26684  US$ Millions  \n",
       "25248     Thousands  \n",
       "20390         Units  "
      ]
     },
     "execution_count": 84,
     "metadata": {},
     "output_type": "execute_result"
    }
   ],
   "source": [
    "df_latest.query(\"\"\"iso3_country_code == 'DZA'  \"\"\")"
   ]
  },
  {
   "cell_type": "code",
   "execution_count": 44,
   "metadata": {},
   "outputs": [
    {
     "data": {
      "text/plain": [
       "indicator_ddt_name\n",
       "Total (Employment)                       2019.5\n",
       "Total Expenditure on Inbound Tourism     2022.0\n",
       "Total Expenditure on Outbound Tourism    2022.0\n",
       "Total International Arrivals             2020.0\n",
       "Total Number of Bed Places               2021.0\n",
       "Total Number of Establishments           2021.0\n",
       "Total Number of Rooms                    2021.0\n",
       "Name: indicator_year, dtype: float64"
      ]
     },
     "execution_count": 44,
     "metadata": {},
     "output_type": "execute_result"
    }
   ],
   "source": [
    "df_latest.groupby('indicator_ddt_name')['indicator_year'].median()"
   ]
  },
  {
   "cell_type": "code",
   "execution_count": 96,
   "metadata": {},
   "outputs": [],
   "source": [
    "# Pivot the data to have years and types as columns\n",
    "pivot_df = df_latest.pivot_table(\n",
    "    index=['country_name', 'region_name', 'iso3_country_code'],\n",
    "    columns=['indicator_ddt_name'],\n",
    "    values='indicator_value'\n",
    ").reset_index()"
   ]
  },
  {
   "cell_type": "code",
   "execution_count": 97,
   "metadata": {},
   "outputs": [],
   "source": [
    "pivot_df = pivot_df.drop(columns=['Total (Employment)'])\n",
    "pivot_df_fil = pivot_df.dropna(subset=['Total Number of Establishments'])"
   ]
  },
  {
   "cell_type": "code",
   "execution_count": 98,
   "metadata": {},
   "outputs": [],
   "source": [
    "pivot_df_fil = pivot_df_fil.merge(df_combined[['iso3_country_code', 'internet_speed', \n",
    "                                'num_airlines', 'peace_inverted', 'visa_score']], on ='iso3_country_code', how= 'left')"
   ]
  },
  {
   "cell_type": "markdown",
   "metadata": {},
   "source": [
    "# Clustering"
   ]
  },
  {
   "cell_type": "code",
   "execution_count": 99,
   "metadata": {},
   "outputs": [
    {
     "data": {
      "text/html": [
       "<div>\n",
       "<style scoped>\n",
       "    .dataframe tbody tr th:only-of-type {\n",
       "        vertical-align: middle;\n",
       "    }\n",
       "\n",
       "    .dataframe tbody tr th {\n",
       "        vertical-align: top;\n",
       "    }\n",
       "\n",
       "    .dataframe thead th {\n",
       "        text-align: right;\n",
       "    }\n",
       "</style>\n",
       "<table border=\"1\" class=\"dataframe\">\n",
       "  <thead>\n",
       "    <tr style=\"text-align: right;\">\n",
       "      <th></th>\n",
       "      <th>country_name</th>\n",
       "      <th>region_name</th>\n",
       "      <th>iso3_country_code</th>\n",
       "      <th>Total Expenditure on Inbound Tourism</th>\n",
       "      <th>Total Expenditure on Outbound Tourism</th>\n",
       "      <th>Total International Arrivals</th>\n",
       "      <th>Total Number of Bed Places</th>\n",
       "      <th>Total Number of Establishments</th>\n",
       "      <th>Total Number of Rooms</th>\n",
       "      <th>internet_speed</th>\n",
       "      <th>num_airlines</th>\n",
       "      <th>peace_inverted</th>\n",
       "      <th>visa_score</th>\n",
       "    </tr>\n",
       "  </thead>\n",
       "  <tbody>\n",
       "    <tr>\n",
       "      <th>0</th>\n",
       "      <td>Algeria</td>\n",
       "      <td>Northern Africa</td>\n",
       "      <td>DZA</td>\n",
       "      <td>219.1</td>\n",
       "      <td>443.50</td>\n",
       "      <td>1398.0</td>\n",
       "      <td>145526.0</td>\n",
       "      <td>1576.0</td>\n",
       "      <td>32837.0</td>\n",
       "      <td>14.26</td>\n",
       "      <td>2.0</td>\n",
       "      <td>0.411015</td>\n",
       "      <td>0.113</td>\n",
       "    </tr>\n",
       "    <tr>\n",
       "      <th>1</th>\n",
       "      <td>Angola</td>\n",
       "      <td>Central Africa</td>\n",
       "      <td>AGO</td>\n",
       "      <td>24.3</td>\n",
       "      <td>1897.80</td>\n",
       "      <td>218000.0</td>\n",
       "      <td>18590.0</td>\n",
       "      <td>247.0</td>\n",
       "      <td>15728.0</td>\n",
       "      <td>18.58</td>\n",
       "      <td>1.0</td>\n",
       "      <td>0.490196</td>\n",
       "      <td>0.189</td>\n",
       "    </tr>\n",
       "    <tr>\n",
       "      <th>2</th>\n",
       "      <td>Benin</td>\n",
       "      <td>Western Africa</td>\n",
       "      <td>BEN</td>\n",
       "      <td>246.6</td>\n",
       "      <td>97.35</td>\n",
       "      <td>354.0</td>\n",
       "      <td>42245.0</td>\n",
       "      <td>1315.0</td>\n",
       "      <td>17959.0</td>\n",
       "      <td>22.48</td>\n",
       "      <td>0.0</td>\n",
       "      <td>0.433651</td>\n",
       "      <td>1.000</td>\n",
       "    </tr>\n",
       "    <tr>\n",
       "      <th>3</th>\n",
       "      <td>Botswana</td>\n",
       "      <td>Southern Africa</td>\n",
       "      <td>BWA</td>\n",
       "      <td>373.6</td>\n",
       "      <td>103.90</td>\n",
       "      <td>338.0</td>\n",
       "      <td>25330.0</td>\n",
       "      <td>933.0</td>\n",
       "      <td>12690.0</td>\n",
       "      <td>8.53</td>\n",
       "      <td>1.0</td>\n",
       "      <td>0.536769</td>\n",
       "      <td>0.321</td>\n",
       "    </tr>\n",
       "    <tr>\n",
       "      <th>4</th>\n",
       "      <td>Burkina Faso</td>\n",
       "      <td>Western Africa</td>\n",
       "      <td>BFA</td>\n",
       "      <td>144.8</td>\n",
       "      <td>151.90</td>\n",
       "      <td>67000.0</td>\n",
       "      <td>33184.0</td>\n",
       "      <td>1091.0</td>\n",
       "      <td>16847.0</td>\n",
       "      <td>45.80</td>\n",
       "      <td>0.0</td>\n",
       "      <td>0.336814</td>\n",
       "      <td>0.487</td>\n",
       "    </tr>\n",
       "  </tbody>\n",
       "</table>\n",
       "</div>"
      ],
      "text/plain": [
       "   country_name      region_name iso3_country_code  \\\n",
       "0       Algeria  Northern Africa               DZA   \n",
       "1        Angola   Central Africa               AGO   \n",
       "2         Benin   Western Africa               BEN   \n",
       "3      Botswana  Southern Africa               BWA   \n",
       "4  Burkina Faso   Western Africa               BFA   \n",
       "\n",
       "   Total Expenditure on Inbound Tourism  \\\n",
       "0                                 219.1   \n",
       "1                                  24.3   \n",
       "2                                 246.6   \n",
       "3                                 373.6   \n",
       "4                                 144.8   \n",
       "\n",
       "   Total Expenditure on Outbound Tourism  Total International Arrivals  \\\n",
       "0                                 443.50                        1398.0   \n",
       "1                                1897.80                      218000.0   \n",
       "2                                  97.35                         354.0   \n",
       "3                                 103.90                         338.0   \n",
       "4                                 151.90                       67000.0   \n",
       "\n",
       "   Total Number of Bed Places  Total Number of Establishments  \\\n",
       "0                    145526.0                          1576.0   \n",
       "1                     18590.0                           247.0   \n",
       "2                     42245.0                          1315.0   \n",
       "3                     25330.0                           933.0   \n",
       "4                     33184.0                          1091.0   \n",
       "\n",
       "   Total Number of Rooms  internet_speed  num_airlines  peace_inverted  \\\n",
       "0                32837.0           14.26           2.0        0.411015   \n",
       "1                15728.0           18.58           1.0        0.490196   \n",
       "2                17959.0           22.48           0.0        0.433651   \n",
       "3                12690.0            8.53           1.0        0.536769   \n",
       "4                16847.0           45.80           0.0        0.336814   \n",
       "\n",
       "   visa_score  \n",
       "0       0.113  \n",
       "1       0.189  \n",
       "2       1.000  \n",
       "3       0.321  \n",
       "4       0.487  "
      ]
     },
     "execution_count": 99,
     "metadata": {},
     "output_type": "execute_result"
    }
   ],
   "source": [
    "pivot_df_fil.head()"
   ]
  },
  {
   "cell_type": "code",
   "execution_count": 100,
   "metadata": {},
   "outputs": [],
   "source": [
    "pivot_df_fil = pivot_df_fil.dropna()"
   ]
  },
  {
   "cell_type": "code",
   "execution_count": 101,
   "metadata": {},
   "outputs": [
    {
     "data": {
      "text/html": [
       "<div>\n",
       "<style scoped>\n",
       "    .dataframe tbody tr th:only-of-type {\n",
       "        vertical-align: middle;\n",
       "    }\n",
       "\n",
       "    .dataframe tbody tr th {\n",
       "        vertical-align: top;\n",
       "    }\n",
       "\n",
       "    .dataframe thead th {\n",
       "        text-align: right;\n",
       "    }\n",
       "</style>\n",
       "<table border=\"1\" class=\"dataframe\">\n",
       "  <thead>\n",
       "    <tr style=\"text-align: right;\">\n",
       "      <th></th>\n",
       "      <th>iso3_country_code</th>\n",
       "      <th>Tourism Category</th>\n",
       "    </tr>\n",
       "  </thead>\n",
       "  <tbody>\n",
       "    <tr>\n",
       "      <th>0</th>\n",
       "      <td>DZA</td>\n",
       "      <td>Advancing Tourism Economy</td>\n",
       "    </tr>\n",
       "    <tr>\n",
       "      <th>1</th>\n",
       "      <td>AGO</td>\n",
       "      <td>Advancing Tourism Economy</td>\n",
       "    </tr>\n",
       "    <tr>\n",
       "      <th>2</th>\n",
       "      <td>BEN</td>\n",
       "      <td>Emerging Tourism Industry</td>\n",
       "    </tr>\n",
       "    <tr>\n",
       "      <th>3</th>\n",
       "      <td>BWA</td>\n",
       "      <td>Advancing Tourism Economy</td>\n",
       "    </tr>\n",
       "    <tr>\n",
       "      <th>4</th>\n",
       "      <td>BFA</td>\n",
       "      <td>Nascent Tourism Market</td>\n",
       "    </tr>\n",
       "  </tbody>\n",
       "</table>\n",
       "</div>"
      ],
      "text/plain": [
       "  iso3_country_code           Tourism Category\n",
       "0               DZA  Advancing Tourism Economy\n",
       "1               AGO  Advancing Tourism Economy\n",
       "2               BEN  Emerging Tourism Industry\n",
       "3               BWA  Advancing Tourism Economy\n",
       "4               BFA     Nascent Tourism Market"
      ]
     },
     "execution_count": 101,
     "metadata": {},
     "output_type": "execute_result"
    }
   ],
   "source": [
    "from sklearn.cluster import KMeans\n",
    "\n",
    "# Normalize the data - important for K-Means\n",
    "scaler = StandardScaler()\n",
    "cluster_df = pivot_df_fil.copy()\n",
    "cluster_df.loc[cluster_df['iso3_country_code'] == 'TCD', 'Total Expenditure on Inbound Tourism'] /= 1000000\n",
    "cluster_df.loc[cluster_df['iso3_country_code'] == 'TCD', 'Total Expenditure on Outbound Tourism'] /= 1000000\n",
    "\n",
    "df_normalized = scaler.fit_transform(cluster_df.drop(columns=['iso3_country_code', 'region_name', 'country_name'], axis=1))\n",
    "\n",
    "# Perform K-Means Clustering\n",
    "kmeans = KMeans(n_clusters=4, random_state=42)\n",
    "cluster_df['Cluster'] = kmeans.fit_predict(df_normalized)\n",
    "\n",
    "# Mapping cluster numbers to descriptive categories\n",
    "cluster_mapping = {\n",
    "    2: 'Nascent Tourism Market',# can be undeveloped\n",
    "    0: 'Emerging Tourism Industry', #Can be developing \n",
    "    #2: 'Industry with Potential',\n",
    "    1: 'Established Tourism Industry',\n",
    "    3: 'Advancing Tourism Economy' # can be Emerging rousim leader\n",
    "}\n",
    "cluster_df['Tourism Category'] = cluster_df['Cluster'].map(cluster_mapping)\n",
    "\n",
    "# Creating a final DataFrame with country and tourism category\n",
    "final_df = cluster_df[['iso3_country_code', 'Tourism Category']]\n",
    "\n",
    "# Display the final DataFrame\n",
    "final_df.head()\n"
   ]
  },
  {
   "cell_type": "code",
   "execution_count": 104,
   "metadata": {},
   "outputs": [
    {
     "data": {
      "text/html": [
       "<div>\n",
       "<style scoped>\n",
       "    .dataframe tbody tr th:only-of-type {\n",
       "        vertical-align: middle;\n",
       "    }\n",
       "\n",
       "    .dataframe tbody tr th {\n",
       "        vertical-align: top;\n",
       "    }\n",
       "\n",
       "    .dataframe thead th {\n",
       "        text-align: right;\n",
       "    }\n",
       "</style>\n",
       "<table border=\"1\" class=\"dataframe\">\n",
       "  <thead>\n",
       "    <tr style=\"text-align: right;\">\n",
       "      <th></th>\n",
       "      <th>country_name</th>\n",
       "      <th>region_name</th>\n",
       "      <th>iso3_country_code</th>\n",
       "      <th>Total Expenditure on Inbound Tourism</th>\n",
       "      <th>Total Expenditure on Outbound Tourism</th>\n",
       "      <th>Total International Arrivals</th>\n",
       "      <th>Total Number of Bed Places</th>\n",
       "      <th>Total Number of Establishments</th>\n",
       "      <th>Total Number of Rooms</th>\n",
       "      <th>internet_speed</th>\n",
       "      <th>num_airlines</th>\n",
       "      <th>peace_inverted</th>\n",
       "      <th>visa_score</th>\n",
       "      <th>Cluster</th>\n",
       "      <th>Tourism Category</th>\n",
       "    </tr>\n",
       "  </thead>\n",
       "  <tbody>\n",
       "    <tr>\n",
       "      <th>0</th>\n",
       "      <td>Algeria</td>\n",
       "      <td>Northern Africa</td>\n",
       "      <td>DZA</td>\n",
       "      <td>219.1</td>\n",
       "      <td>443.50</td>\n",
       "      <td>1398.0</td>\n",
       "      <td>145526.0</td>\n",
       "      <td>1576.0</td>\n",
       "      <td>32837.0</td>\n",
       "      <td>14.26</td>\n",
       "      <td>2.0</td>\n",
       "      <td>0.411015</td>\n",
       "      <td>0.113</td>\n",
       "      <td>3</td>\n",
       "      <td>Advancing Tourism Economy</td>\n",
       "    </tr>\n",
       "    <tr>\n",
       "      <th>1</th>\n",
       "      <td>Angola</td>\n",
       "      <td>Central Africa</td>\n",
       "      <td>AGO</td>\n",
       "      <td>24.3</td>\n",
       "      <td>1897.80</td>\n",
       "      <td>218000.0</td>\n",
       "      <td>18590.0</td>\n",
       "      <td>247.0</td>\n",
       "      <td>15728.0</td>\n",
       "      <td>18.58</td>\n",
       "      <td>1.0</td>\n",
       "      <td>0.490196</td>\n",
       "      <td>0.189</td>\n",
       "      <td>3</td>\n",
       "      <td>Advancing Tourism Economy</td>\n",
       "    </tr>\n",
       "    <tr>\n",
       "      <th>2</th>\n",
       "      <td>Benin</td>\n",
       "      <td>Western Africa</td>\n",
       "      <td>BEN</td>\n",
       "      <td>246.6</td>\n",
       "      <td>97.35</td>\n",
       "      <td>354.0</td>\n",
       "      <td>42245.0</td>\n",
       "      <td>1315.0</td>\n",
       "      <td>17959.0</td>\n",
       "      <td>22.48</td>\n",
       "      <td>0.0</td>\n",
       "      <td>0.433651</td>\n",
       "      <td>1.000</td>\n",
       "      <td>0</td>\n",
       "      <td>Emerging Tourism Industry</td>\n",
       "    </tr>\n",
       "    <tr>\n",
       "      <th>3</th>\n",
       "      <td>Botswana</td>\n",
       "      <td>Southern Africa</td>\n",
       "      <td>BWA</td>\n",
       "      <td>373.6</td>\n",
       "      <td>103.90</td>\n",
       "      <td>338.0</td>\n",
       "      <td>25330.0</td>\n",
       "      <td>933.0</td>\n",
       "      <td>12690.0</td>\n",
       "      <td>8.53</td>\n",
       "      <td>1.0</td>\n",
       "      <td>0.536769</td>\n",
       "      <td>0.321</td>\n",
       "      <td>3</td>\n",
       "      <td>Advancing Tourism Economy</td>\n",
       "    </tr>\n",
       "    <tr>\n",
       "      <th>4</th>\n",
       "      <td>Burkina Faso</td>\n",
       "      <td>Western Africa</td>\n",
       "      <td>BFA</td>\n",
       "      <td>144.8</td>\n",
       "      <td>151.90</td>\n",
       "      <td>67000.0</td>\n",
       "      <td>33184.0</td>\n",
       "      <td>1091.0</td>\n",
       "      <td>16847.0</td>\n",
       "      <td>45.80</td>\n",
       "      <td>0.0</td>\n",
       "      <td>0.336814</td>\n",
       "      <td>0.487</td>\n",
       "      <td>2</td>\n",
       "      <td>Nascent Tourism Market</td>\n",
       "    </tr>\n",
       "  </tbody>\n",
       "</table>\n",
       "</div>"
      ],
      "text/plain": [
       "   country_name      region_name iso3_country_code  \\\n",
       "0       Algeria  Northern Africa               DZA   \n",
       "1        Angola   Central Africa               AGO   \n",
       "2         Benin   Western Africa               BEN   \n",
       "3      Botswana  Southern Africa               BWA   \n",
       "4  Burkina Faso   Western Africa               BFA   \n",
       "\n",
       "   Total Expenditure on Inbound Tourism  \\\n",
       "0                                 219.1   \n",
       "1                                  24.3   \n",
       "2                                 246.6   \n",
       "3                                 373.6   \n",
       "4                                 144.8   \n",
       "\n",
       "   Total Expenditure on Outbound Tourism  Total International Arrivals  \\\n",
       "0                                 443.50                        1398.0   \n",
       "1                                1897.80                      218000.0   \n",
       "2                                  97.35                         354.0   \n",
       "3                                 103.90                         338.0   \n",
       "4                                 151.90                       67000.0   \n",
       "\n",
       "   Total Number of Bed Places  Total Number of Establishments  \\\n",
       "0                    145526.0                          1576.0   \n",
       "1                     18590.0                           247.0   \n",
       "2                     42245.0                          1315.0   \n",
       "3                     25330.0                           933.0   \n",
       "4                     33184.0                          1091.0   \n",
       "\n",
       "   Total Number of Rooms  internet_speed  num_airlines  peace_inverted  \\\n",
       "0                32837.0           14.26           2.0        0.411015   \n",
       "1                15728.0           18.58           1.0        0.490196   \n",
       "2                17959.0           22.48           0.0        0.433651   \n",
       "3                12690.0            8.53           1.0        0.536769   \n",
       "4                16847.0           45.80           0.0        0.336814   \n",
       "\n",
       "   visa_score  Cluster           Tourism Category  \n",
       "0       0.113        3  Advancing Tourism Economy  \n",
       "1       0.189        3  Advancing Tourism Economy  \n",
       "2       1.000        0  Emerging Tourism Industry  \n",
       "3       0.321        3  Advancing Tourism Economy  \n",
       "4       0.487        2     Nascent Tourism Market  "
      ]
     },
     "execution_count": 104,
     "metadata": {},
     "output_type": "execute_result"
    }
   ],
   "source": [
    "cluster_df.head()"
   ]
  },
  {
   "cell_type": "code",
   "execution_count": 117,
   "metadata": {},
   "outputs": [],
   "source": [
    "cluster_df.to_excel(r'../../datasets/new_platform/bubble/cluster_analysis.xlsx')"
   ]
  },
  {
   "cell_type": "code",
   "execution_count": 114,
   "metadata": {},
   "outputs": [
    {
     "data": {
      "application/vnd.plotly.v1+json": {
       "config": {
        "plotlyServerURL": "https://plot.ly"
       },
       "data": [
        {
         "branchvalues": "total",
         "customdata": [
          [
           "Central Africa"
          ],
          [
           "Central Africa"
          ],
          [
           "Central Africa"
          ],
          [
           "Central Africa"
          ],
          [
           "Central Africa"
          ],
          [
           "Central Africa"
          ],
          [
           "Eastern Africa"
          ],
          [
           "Eastern Africa"
          ],
          [
           "Eastern Africa"
          ],
          [
           "Eastern Africa"
          ],
          [
           "Eastern Africa"
          ],
          [
           "Eastern Africa"
          ],
          [
           "Eastern Africa"
          ],
          [
           "Eastern Africa"
          ],
          [
           "Eastern Africa"
          ],
          [
           "Eastern Africa"
          ],
          [
           "Eastern Africa"
          ],
          [
           "Eastern Africa"
          ],
          [
           "Northern Africa"
          ],
          [
           "Northern Africa"
          ],
          [
           "Northern Africa"
          ],
          [
           "Northern Africa"
          ],
          [
           "Northern Africa"
          ],
          [
           "Northern Africa"
          ],
          [
           "Southern Africa"
          ],
          [
           "Southern Africa"
          ],
          [
           "Southern Africa"
          ],
          [
           "Southern Africa"
          ],
          [
           "Southern Africa"
          ],
          [
           "Western Africa"
          ],
          [
           "Western Africa"
          ],
          [
           "Western Africa"
          ],
          [
           "Western Africa"
          ],
          [
           "Western Africa"
          ],
          [
           "Western Africa"
          ],
          [
           "Western Africa"
          ],
          [
           "Western Africa"
          ],
          [
           "Western Africa"
          ],
          [
           "Western Africa"
          ],
          [
           "Western Africa"
          ],
          [
           "Western Africa"
          ],
          [
           "(?)"
          ],
          [
           "(?)"
          ],
          [
           "(?)"
          ],
          [
           "(?)"
          ]
         ],
         "domain": {
          "x": [
           0,
           1
          ],
          "y": [
           0,
           1
          ]
         },
         "hovertemplate": "labels=%{label}<br>Total Expenditure on Inbound Tourism=%{value}<br>parent=%{parent}<br>id=%{id}<br>region_name=%{customdata[0]}<extra></extra>",
         "ids": [
          "Advancing Tourism Economy/Angola",
          "Nascent Tourism Market/Sao Tome and Principe",
          "Nascent Tourism Market/Cameroon",
          "Nascent Tourism Market/Central African Republic",
          "Nascent Tourism Market/Chad",
          "Nascent Tourism Market/Congo",
          "Advancing Tourism Economy/Madagascar",
          "Advancing Tourism Economy/Uganda",
          "Emerging Tourism Industry/Tanzania, United Republic of",
          "Emerging Tourism Industry/Seychelles",
          "Emerging Tourism Industry/Rwanda",
          "Advancing Tourism Economy/Mozambique",
          "Emerging Tourism Industry/Mauritius",
          "Advancing Tourism Economy/Zambia",
          "Nascent Tourism Market/Zimbabwe",
          "Emerging Tourism Industry/Comoros",
          "Advancing Tourism Economy/Ethiopia",
          "Emerging Tourism Industry/Djibouti",
          "Advancing Tourism Economy/Tunisia",
          "Nascent Tourism Market/Sudan",
          "Established Tourism Industry/Morocco",
          "Advancing Tourism Economy/Algeria",
          "Established Tourism Industry/Egypt",
          "Nascent Tourism Market/Libya",
          "Advancing Tourism Economy/Namibia",
          "Nascent Tourism Market/Lesotho",
          "Advancing Tourism Economy/Botswana",
          "Nascent Tourism Market/Swaziland",
          "Established Tourism Industry/South Africa",
          "Emerging Tourism Industry/Benin",
          "Advancing Tourism Economy/Ghana",
          "Emerging Tourism Industry/Togo",
          "Nascent Tourism Market/Guinea",
          "Emerging Tourism Industry/Sierra Leone",
          "Nascent Tourism Market/Burkina Faso",
          "Emerging Tourism Industry/Senegal",
          "Emerging Tourism Industry/Cabo Verde",
          "Nascent Tourism Market/Niger",
          "Advancing Tourism Economy/Côte d'Ivoire",
          "Nascent Tourism Market/Mali",
          "Emerging Tourism Industry/Gambia",
          "Advancing Tourism Economy",
          "Emerging Tourism Industry",
          "Established Tourism Industry",
          "Nascent Tourism Market"
         ],
         "labels": [
          "Angola",
          "Sao Tome and Principe",
          "Cameroon",
          "Central African Republic",
          "Chad",
          "Congo",
          "Madagascar",
          "Uganda",
          "Tanzania, United Republic of",
          "Seychelles",
          "Rwanda",
          "Mozambique",
          "Mauritius",
          "Zambia",
          "Zimbabwe",
          "Comoros",
          "Ethiopia",
          "Djibouti",
          "Tunisia",
          "Sudan",
          "Morocco",
          "Algeria",
          "Egypt",
          "Libya",
          "Namibia",
          "Lesotho",
          "Botswana",
          "Swaziland",
          "South Africa",
          "Benin",
          "Ghana",
          "Togo",
          "Guinea",
          "Sierra Leone",
          "Burkina Faso",
          "Senegal",
          "Cabo Verde",
          "Niger",
          "Côte d'Ivoire",
          "Mali",
          "Gambia",
          "Advancing Tourism Economy",
          "Emerging Tourism Industry",
          "Established Tourism Industry",
          "Nascent Tourism Market"
         ],
         "marker": {
          "colors": [
           "rgb(251,180,174)",
           "rgb(251,180,174)",
           "rgb(251,180,174)",
           "rgb(251,180,174)",
           "rgb(251,180,174)",
           "rgb(251,180,174)",
           "rgb(179,205,227)",
           "rgb(179,205,227)",
           "rgb(179,205,227)",
           "rgb(179,205,227)",
           "rgb(179,205,227)",
           "rgb(179,205,227)",
           "rgb(179,205,227)",
           "rgb(179,205,227)",
           "rgb(179,205,227)",
           "rgb(179,205,227)",
           "rgb(179,205,227)",
           "rgb(179,205,227)",
           "rgb(204,235,197)",
           "rgb(204,235,197)",
           "rgb(204,235,197)",
           "rgb(204,235,197)",
           "rgb(204,235,197)",
           "rgb(204,235,197)",
           "rgb(222,203,228)",
           "rgb(222,203,228)",
           "rgb(222,203,228)",
           "rgb(222,203,228)",
           "rgb(222,203,228)",
           "rgb(254,217,166)",
           "rgb(254,217,166)",
           "rgb(254,217,166)",
           "rgb(254,217,166)",
           "rgb(254,217,166)",
           "rgb(254,217,166)",
           "rgb(254,217,166)",
           "rgb(254,217,166)",
           "rgb(254,217,166)",
           "rgb(254,217,166)",
           "rgb(254,217,166)",
           "rgb(254,217,166)",
           "rgb(255,255,204)",
           "rgb(255,255,204)",
           "rgb(255,255,204)",
           "rgb(255,255,204)"
          ]
         },
         "name": "",
         "parents": [
          "Advancing Tourism Economy",
          "Nascent Tourism Market",
          "Nascent Tourism Market",
          "Nascent Tourism Market",
          "Nascent Tourism Market",
          "Nascent Tourism Market",
          "Advancing Tourism Economy",
          "Advancing Tourism Economy",
          "Emerging Tourism Industry",
          "Emerging Tourism Industry",
          "Emerging Tourism Industry",
          "Advancing Tourism Economy",
          "Emerging Tourism Industry",
          "Advancing Tourism Economy",
          "Nascent Tourism Market",
          "Emerging Tourism Industry",
          "Advancing Tourism Economy",
          "Emerging Tourism Industry",
          "Advancing Tourism Economy",
          "Nascent Tourism Market",
          "Established Tourism Industry",
          "Advancing Tourism Economy",
          "Established Tourism Industry",
          "Nascent Tourism Market",
          "Advancing Tourism Economy",
          "Nascent Tourism Market",
          "Advancing Tourism Economy",
          "Nascent Tourism Market",
          "Established Tourism Industry",
          "Emerging Tourism Industry",
          "Advancing Tourism Economy",
          "Emerging Tourism Industry",
          "Nascent Tourism Market",
          "Emerging Tourism Industry",
          "Nascent Tourism Market",
          "Emerging Tourism Industry",
          "Emerging Tourism Industry",
          "Nascent Tourism Market",
          "Advancing Tourism Economy",
          "Nascent Tourism Market",
          "Emerging Tourism Industry",
          "",
          "",
          "",
          ""
         ],
         "type": "treemap",
         "values": [
          24.3,
          47.5,
          544.5,
          30.9,
          25,
          6,
          405,
          942,
          2544,
          964,
          618,
          290,
          1651.9,
          829,
          66,
          84.7,
          3883.1,
          45.5,
          2546,
          1065,
          10415,
          219.1,
          13624.5,
          93,
          294,
          11,
          373.6,
          11.8,
          4793,
          246.6,
          895,
          151,
          10.56,
          22.5,
          144.8,
          416,
          400.2,
          143,
          315,
          191.3,
          164.4,
          11016.1,
          7308.8,
          28832.5,
          2390.36
         ]
        }
       ],
       "layout": {
        "coloraxis": {
         "colorbar": {
          "title": {
           "text": "Recency"
          }
         }
        },
        "font": {
         "color": "black",
         "family": "Futura, sans-serif",
         "size": 12
        },
        "legend": {
         "tracegroupgap": 0
        },
        "margin": {
         "b": 25,
         "l": 25,
         "r": 25,
         "t": 50
        },
        "template": {
         "data": {
          "bar": [
           {
            "error_x": {
             "color": "#2a3f5f"
            },
            "error_y": {
             "color": "#2a3f5f"
            },
            "marker": {
             "line": {
              "color": "#E5ECF6",
              "width": 0.5
             },
             "pattern": {
              "fillmode": "overlay",
              "size": 10,
              "solidity": 0.2
             }
            },
            "type": "bar"
           }
          ],
          "barpolar": [
           {
            "marker": {
             "line": {
              "color": "#E5ECF6",
              "width": 0.5
             },
             "pattern": {
              "fillmode": "overlay",
              "size": 10,
              "solidity": 0.2
             }
            },
            "type": "barpolar"
           }
          ],
          "carpet": [
           {
            "aaxis": {
             "endlinecolor": "#2a3f5f",
             "gridcolor": "white",
             "linecolor": "white",
             "minorgridcolor": "white",
             "startlinecolor": "#2a3f5f"
            },
            "baxis": {
             "endlinecolor": "#2a3f5f",
             "gridcolor": "white",
             "linecolor": "white",
             "minorgridcolor": "white",
             "startlinecolor": "#2a3f5f"
            },
            "type": "carpet"
           }
          ],
          "choropleth": [
           {
            "colorbar": {
             "outlinewidth": 0,
             "ticks": ""
            },
            "type": "choropleth"
           }
          ],
          "contour": [
           {
            "colorbar": {
             "outlinewidth": 0,
             "ticks": ""
            },
            "colorscale": [
             [
              0,
              "#0d0887"
             ],
             [
              0.1111111111111111,
              "#46039f"
             ],
             [
              0.2222222222222222,
              "#7201a8"
             ],
             [
              0.3333333333333333,
              "#9c179e"
             ],
             [
              0.4444444444444444,
              "#bd3786"
             ],
             [
              0.5555555555555556,
              "#d8576b"
             ],
             [
              0.6666666666666666,
              "#ed7953"
             ],
             [
              0.7777777777777778,
              "#fb9f3a"
             ],
             [
              0.8888888888888888,
              "#fdca26"
             ],
             [
              1,
              "#f0f921"
             ]
            ],
            "type": "contour"
           }
          ],
          "contourcarpet": [
           {
            "colorbar": {
             "outlinewidth": 0,
             "ticks": ""
            },
            "type": "contourcarpet"
           }
          ],
          "heatmap": [
           {
            "colorbar": {
             "outlinewidth": 0,
             "ticks": ""
            },
            "colorscale": [
             [
              0,
              "#0d0887"
             ],
             [
              0.1111111111111111,
              "#46039f"
             ],
             [
              0.2222222222222222,
              "#7201a8"
             ],
             [
              0.3333333333333333,
              "#9c179e"
             ],
             [
              0.4444444444444444,
              "#bd3786"
             ],
             [
              0.5555555555555556,
              "#d8576b"
             ],
             [
              0.6666666666666666,
              "#ed7953"
             ],
             [
              0.7777777777777778,
              "#fb9f3a"
             ],
             [
              0.8888888888888888,
              "#fdca26"
             ],
             [
              1,
              "#f0f921"
             ]
            ],
            "type": "heatmap"
           }
          ],
          "heatmapgl": [
           {
            "colorbar": {
             "outlinewidth": 0,
             "ticks": ""
            },
            "colorscale": [
             [
              0,
              "#0d0887"
             ],
             [
              0.1111111111111111,
              "#46039f"
             ],
             [
              0.2222222222222222,
              "#7201a8"
             ],
             [
              0.3333333333333333,
              "#9c179e"
             ],
             [
              0.4444444444444444,
              "#bd3786"
             ],
             [
              0.5555555555555556,
              "#d8576b"
             ],
             [
              0.6666666666666666,
              "#ed7953"
             ],
             [
              0.7777777777777778,
              "#fb9f3a"
             ],
             [
              0.8888888888888888,
              "#fdca26"
             ],
             [
              1,
              "#f0f921"
             ]
            ],
            "type": "heatmapgl"
           }
          ],
          "histogram": [
           {
            "marker": {
             "pattern": {
              "fillmode": "overlay",
              "size": 10,
              "solidity": 0.2
             }
            },
            "type": "histogram"
           }
          ],
          "histogram2d": [
           {
            "colorbar": {
             "outlinewidth": 0,
             "ticks": ""
            },
            "colorscale": [
             [
              0,
              "#0d0887"
             ],
             [
              0.1111111111111111,
              "#46039f"
             ],
             [
              0.2222222222222222,
              "#7201a8"
             ],
             [
              0.3333333333333333,
              "#9c179e"
             ],
             [
              0.4444444444444444,
              "#bd3786"
             ],
             [
              0.5555555555555556,
              "#d8576b"
             ],
             [
              0.6666666666666666,
              "#ed7953"
             ],
             [
              0.7777777777777778,
              "#fb9f3a"
             ],
             [
              0.8888888888888888,
              "#fdca26"
             ],
             [
              1,
              "#f0f921"
             ]
            ],
            "type": "histogram2d"
           }
          ],
          "histogram2dcontour": [
           {
            "colorbar": {
             "outlinewidth": 0,
             "ticks": ""
            },
            "colorscale": [
             [
              0,
              "#0d0887"
             ],
             [
              0.1111111111111111,
              "#46039f"
             ],
             [
              0.2222222222222222,
              "#7201a8"
             ],
             [
              0.3333333333333333,
              "#9c179e"
             ],
             [
              0.4444444444444444,
              "#bd3786"
             ],
             [
              0.5555555555555556,
              "#d8576b"
             ],
             [
              0.6666666666666666,
              "#ed7953"
             ],
             [
              0.7777777777777778,
              "#fb9f3a"
             ],
             [
              0.8888888888888888,
              "#fdca26"
             ],
             [
              1,
              "#f0f921"
             ]
            ],
            "type": "histogram2dcontour"
           }
          ],
          "mesh3d": [
           {
            "colorbar": {
             "outlinewidth": 0,
             "ticks": ""
            },
            "type": "mesh3d"
           }
          ],
          "parcoords": [
           {
            "line": {
             "colorbar": {
              "outlinewidth": 0,
              "ticks": ""
             }
            },
            "type": "parcoords"
           }
          ],
          "pie": [
           {
            "automargin": true,
            "type": "pie"
           }
          ],
          "scatter": [
           {
            "fillpattern": {
             "fillmode": "overlay",
             "size": 10,
             "solidity": 0.2
            },
            "type": "scatter"
           }
          ],
          "scatter3d": [
           {
            "line": {
             "colorbar": {
              "outlinewidth": 0,
              "ticks": ""
             }
            },
            "marker": {
             "colorbar": {
              "outlinewidth": 0,
              "ticks": ""
             }
            },
            "type": "scatter3d"
           }
          ],
          "scattercarpet": [
           {
            "marker": {
             "colorbar": {
              "outlinewidth": 0,
              "ticks": ""
             }
            },
            "type": "scattercarpet"
           }
          ],
          "scattergeo": [
           {
            "marker": {
             "colorbar": {
              "outlinewidth": 0,
              "ticks": ""
             }
            },
            "type": "scattergeo"
           }
          ],
          "scattergl": [
           {
            "marker": {
             "colorbar": {
              "outlinewidth": 0,
              "ticks": ""
             }
            },
            "type": "scattergl"
           }
          ],
          "scattermapbox": [
           {
            "marker": {
             "colorbar": {
              "outlinewidth": 0,
              "ticks": ""
             }
            },
            "type": "scattermapbox"
           }
          ],
          "scatterpolar": [
           {
            "marker": {
             "colorbar": {
              "outlinewidth": 0,
              "ticks": ""
             }
            },
            "type": "scatterpolar"
           }
          ],
          "scatterpolargl": [
           {
            "marker": {
             "colorbar": {
              "outlinewidth": 0,
              "ticks": ""
             }
            },
            "type": "scatterpolargl"
           }
          ],
          "scatterternary": [
           {
            "marker": {
             "colorbar": {
              "outlinewidth": 0,
              "ticks": ""
             }
            },
            "type": "scatterternary"
           }
          ],
          "surface": [
           {
            "colorbar": {
             "outlinewidth": 0,
             "ticks": ""
            },
            "colorscale": [
             [
              0,
              "#0d0887"
             ],
             [
              0.1111111111111111,
              "#46039f"
             ],
             [
              0.2222222222222222,
              "#7201a8"
             ],
             [
              0.3333333333333333,
              "#9c179e"
             ],
             [
              0.4444444444444444,
              "#bd3786"
             ],
             [
              0.5555555555555556,
              "#d8576b"
             ],
             [
              0.6666666666666666,
              "#ed7953"
             ],
             [
              0.7777777777777778,
              "#fb9f3a"
             ],
             [
              0.8888888888888888,
              "#fdca26"
             ],
             [
              1,
              "#f0f921"
             ]
            ],
            "type": "surface"
           }
          ],
          "table": [
           {
            "cells": {
             "fill": {
              "color": "#EBF0F8"
             },
             "line": {
              "color": "white"
             }
            },
            "header": {
             "fill": {
              "color": "#C8D4E3"
             },
             "line": {
              "color": "white"
             }
            },
            "type": "table"
           }
          ]
         },
         "layout": {
          "annotationdefaults": {
           "arrowcolor": "#2a3f5f",
           "arrowhead": 0,
           "arrowwidth": 1
          },
          "autotypenumbers": "strict",
          "coloraxis": {
           "colorbar": {
            "outlinewidth": 0,
            "ticks": ""
           }
          },
          "colorscale": {
           "diverging": [
            [
             0,
             "#8e0152"
            ],
            [
             0.1,
             "#c51b7d"
            ],
            [
             0.2,
             "#de77ae"
            ],
            [
             0.3,
             "#f1b6da"
            ],
            [
             0.4,
             "#fde0ef"
            ],
            [
             0.5,
             "#f7f7f7"
            ],
            [
             0.6,
             "#e6f5d0"
            ],
            [
             0.7,
             "#b8e186"
            ],
            [
             0.8,
             "#7fbc41"
            ],
            [
             0.9,
             "#4d9221"
            ],
            [
             1,
             "#276419"
            ]
           ],
           "sequential": [
            [
             0,
             "#0d0887"
            ],
            [
             0.1111111111111111,
             "#46039f"
            ],
            [
             0.2222222222222222,
             "#7201a8"
            ],
            [
             0.3333333333333333,
             "#9c179e"
            ],
            [
             0.4444444444444444,
             "#bd3786"
            ],
            [
             0.5555555555555556,
             "#d8576b"
            ],
            [
             0.6666666666666666,
             "#ed7953"
            ],
            [
             0.7777777777777778,
             "#fb9f3a"
            ],
            [
             0.8888888888888888,
             "#fdca26"
            ],
            [
             1,
             "#f0f921"
            ]
           ],
           "sequentialminus": [
            [
             0,
             "#0d0887"
            ],
            [
             0.1111111111111111,
             "#46039f"
            ],
            [
             0.2222222222222222,
             "#7201a8"
            ],
            [
             0.3333333333333333,
             "#9c179e"
            ],
            [
             0.4444444444444444,
             "#bd3786"
            ],
            [
             0.5555555555555556,
             "#d8576b"
            ],
            [
             0.6666666666666666,
             "#ed7953"
            ],
            [
             0.7777777777777778,
             "#fb9f3a"
            ],
            [
             0.8888888888888888,
             "#fdca26"
            ],
            [
             1,
             "#f0f921"
            ]
           ]
          },
          "colorway": [
           "#636efa",
           "#EF553B",
           "#00cc96",
           "#ab63fa",
           "#FFA15A",
           "#19d3f3",
           "#FF6692",
           "#B6E880",
           "#FF97FF",
           "#FECB52"
          ],
          "font": {
           "color": "#2a3f5f"
          },
          "geo": {
           "bgcolor": "white",
           "lakecolor": "white",
           "landcolor": "#E5ECF6",
           "showlakes": true,
           "showland": true,
           "subunitcolor": "white"
          },
          "hoverlabel": {
           "align": "left"
          },
          "hovermode": "closest",
          "mapbox": {
           "style": "light"
          },
          "paper_bgcolor": "white",
          "plot_bgcolor": "#E5ECF6",
          "polar": {
           "angularaxis": {
            "gridcolor": "white",
            "linecolor": "white",
            "ticks": ""
           },
           "bgcolor": "#E5ECF6",
           "radialaxis": {
            "gridcolor": "white",
            "linecolor": "white",
            "ticks": ""
           }
          },
          "scene": {
           "xaxis": {
            "backgroundcolor": "#E5ECF6",
            "gridcolor": "white",
            "gridwidth": 2,
            "linecolor": "white",
            "showbackground": true,
            "ticks": "",
            "zerolinecolor": "white"
           },
           "yaxis": {
            "backgroundcolor": "#E5ECF6",
            "gridcolor": "white",
            "gridwidth": 2,
            "linecolor": "white",
            "showbackground": true,
            "ticks": "",
            "zerolinecolor": "white"
           },
           "zaxis": {
            "backgroundcolor": "#E5ECF6",
            "gridcolor": "white",
            "gridwidth": 2,
            "linecolor": "white",
            "showbackground": true,
            "ticks": "",
            "zerolinecolor": "white"
           }
          },
          "shapedefaults": {
           "line": {
            "color": "#2a3f5f"
           }
          },
          "ternary": {
           "aaxis": {
            "gridcolor": "white",
            "linecolor": "white",
            "ticks": ""
           },
           "baxis": {
            "gridcolor": "white",
            "linecolor": "white",
            "ticks": ""
           },
           "bgcolor": "#E5ECF6",
           "caxis": {
            "gridcolor": "white",
            "linecolor": "white",
            "ticks": ""
           }
          },
          "title": {
           "x": 0.05
          },
          "xaxis": {
           "automargin": true,
           "gridcolor": "white",
           "linecolor": "white",
           "ticks": "",
           "title": {
            "standoff": 15
           },
           "zerolinecolor": "white",
           "zerolinewidth": 2
          },
          "yaxis": {
           "automargin": true,
           "gridcolor": "white",
           "linecolor": "white",
           "ticks": "",
           "title": {
            "standoff": 15
           },
           "zerolinecolor": "white",
           "zerolinewidth": 2
          }
         }
        },
        "treemapcolorway": [
         "rgb(251,180,174)",
         "rgb(179,205,227)",
         "rgb(204,235,197)",
         "rgb(222,203,228)",
         "rgb(254,217,166)",
         "rgb(255,255,204)",
         "rgb(229,216,189)",
         "rgb(253,218,236)",
         "rgb(242,242,242)"
        ]
       }
      }
     },
     "metadata": {},
     "output_type": "display_data"
    }
   ],
   "source": [
    "import plotly.io as pio\n",
    "import plotly.express as px\n",
    "#df_combined = pd.concat([df_gov_results[columns], df_ngos_results[columns], df_org_results[columns]], join='inner')\n",
    "\n",
    "# Filter out rows where num_indicators is zero or missing\n",
    "#df_combined = df_combined[df_combined['num_indicators'] > 0]\n",
    "\n",
    "fig = px.treemap(cluster_df, \n",
    "                 path=['Tourism Category', 'country_name'],\n",
    "                 values='Total Expenditure on Inbound Tourism',\n",
    "                 color='region_name',\n",
    "                 color_discrete_sequence=px.colors.qualitative.Pastel1\n",
    "                 #color_continuous_scale='RdBu',\n",
    "                 #hover_data=['num_indicators', 'recency']\n",
    "                )\n",
    "#fig.update_layout(title_text=\"Breakdown of Number of Indicators for Each Source, Colored for Recency\", title_x=0.5)\n",
    "fig.update_layout(margin = dict(t=50, l=25, r=25, b=25),   font=dict(family=\"Futura, sans-serif\", size=12, color=\"black\"),\n",
    "    coloraxis_colorbar=dict(title=\"Recency\"))\n",
    "#pio.write_image(fig, '/Users/dhruvpandit/Mirror/Documents/With Africa/Open Data Paper/treemap.png', width=1920, height=1080)\n",
    "#fig.write_html('/Users/dhruvpandit/Mirror/Documents/With Africa/Open Data Paper/treemap.html')\n",
    "fig.show()\n"
   ]
  },
  {
   "cell_type": "code",
   "execution_count": null,
   "metadata": {},
   "outputs": [],
   "source": []
  }
 ],
 "metadata": {
  "kernelspec": {
   "display_name": "Python 3",
   "language": "python",
   "name": "python3"
  },
  "language_info": {
   "codemirror_mode": {
    "name": "ipython",
    "version": 3
   },
   "file_extension": ".py",
   "mimetype": "text/x-python",
   "name": "python",
   "nbconvert_exporter": "python",
   "pygments_lexer": "ipython3",
   "version": "3.12.5"
  }
 },
 "nbformat": 4,
 "nbformat_minor": 2
}
