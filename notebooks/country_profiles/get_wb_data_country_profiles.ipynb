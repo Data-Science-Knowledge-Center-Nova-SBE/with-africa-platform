{
 "cells": [
  {
   "cell_type": "code",
   "execution_count": 2,
   "metadata": {},
   "outputs": [],
   "source": [
    "import pandas as pd\n",
    "import wbgapi as wb\n",
    "import numpy as np\n",
    "from sklearn.preprocessing import MinMaxScaler"
   ]
  },
  {
   "cell_type": "markdown",
   "metadata": {},
   "source": [
    "## Population"
   ]
  },
  {
   "cell_type": "code",
   "execution_count": 3,
   "metadata": {},
   "outputs": [],
   "source": [
    "\n",
    "pop = wb.data.DataFrame('SP.POP.TOTL', wb.region.members('AFR'))\n"
   ]
  },
  {
   "cell_type": "code",
   "execution_count": 10,
   "metadata": {},
   "outputs": [],
   "source": [
    "pop = pop[['YR2023', 'YR2022']]\n",
    "unwto_count = pd.read_excel(r'../../datasets/unwto/countryContUNWTO.xlsx')\n",
    "pop = pop.reset_index().rename(columns = {'economy' : 'iso3_code'})"
   ]
  },
  {
   "cell_type": "code",
   "execution_count": 12,
   "metadata": {},
   "outputs": [],
   "source": [
    "pop = pop.merge(unwto_count[['iso3_code', 'country', 'sub_region']], on = 'iso3_code', how='left')"
   ]
  },
  {
   "cell_type": "code",
   "execution_count": 13,
   "metadata": {},
   "outputs": [],
   "source": [
    "pop.to_excel(r'../../datasets/world_bank/population.xlsx')"
   ]
  },
  {
   "cell_type": "markdown",
   "metadata": {},
   "source": [
    "## Infrastructure Data"
   ]
  },
  {
   "cell_type": "code",
   "execution_count": 2,
   "metadata": {},
   "outputs": [],
   "source": [
    "# economy, Use of IMF credit (DOD, current US$)\n",
    "imf = wb.data.DataFrame('DT.DOD.DIMF.CD', wb.region.members('AFR'))\n",
    "#  Official exchange rate (LCU per US$, period average)\n",
    "exrate = wb.data.DataFrame('PA.NUS.FCRF', wb.region.members('AFR'))\n",
    "# Current account balance (% of GDP)\n",
    "cur_ac = wb.data.DataFrame('BN.CAB.XOKA.GD.ZS', wb.region.members('AFR'))\n",
    "# GDP per capita (current US$)\n",
    "gdp = wb.data.DataFrame('NY.GDP.PCAP.CD', wb.region.members('AFR'))\n",
    "# Inflation, consumer prices (annual %)\n",
    "inf = wb.data.DataFrame('FP.CPI.TOTL.ZG', wb.region.members('AFR'))\n",
    "# Foreign direct investment, net inflows (BoP, current US$)\n",
    "fdi = wb.data.DataFrame('BX.KLT.DINV.CD.WD', wb.region.members('AFR'))\n",
    "# Domestic credit to private sector (% of GDP)\n",
    "dom = wb.data.DataFrame('FS.AST.PRVT.GD.ZS', wb.region.members('AFR'))\n",
    "#Unemployment, total (% of total labor force) (modeled ILO estimate)\n",
    "ur = wb.data.DataFrame('SL.UEM.TOTL.ZS', wb.region.members('AFR'))\n"
   ]
  },
  {
   "cell_type": "code",
   "execution_count": 3,
   "metadata": {},
   "outputs": [],
   "source": [
    "econ_dic = {\n",
    "    'Use of IMF credit (DOD, current US$)' : imf ,\n",
    "    'Official exchange rate (LCU per US$, period average)' : exrate,\n",
    "    'Inflation, consumer prices (annual %)' : inf ,\n",
    "    'Current account balance (% of GDP)' : cur_ac,\n",
    "    'GDP per capita (current US$)' : gdp,\n",
    "    'Foreign direct investment, net inflows (BoP, current US$)' : fdi,\n",
    "    'Domestic credit to private sector (% of GDP)' : dom, \n",
    "    'Unemployment, total (% of total labor force) (modeled ILO estimate)' : ur\n",
    "}"
   ]
  },
  {
   "cell_type": "code",
   "execution_count": 4,
   "metadata": {},
   "outputs": [],
   "source": [
    "new_econ_dict = {}\n",
    "\n",
    "\n",
    "# Function to get the latest year and its value\n",
    "def get_latest_year_and_value_log(row):\n",
    "    last_valid_index = row.last_valid_index()\n",
    "    if last_valid_index is not None:\n",
    "        return pd.Series([int(last_valid_index[2:]), row[last_valid_index]])\n",
    "    else:\n",
    "        return pd.Series([None, None])\n",
    "def get_latest_year_and_value(row):\n",
    "    last_valid_index = row.last_valid_index()\n",
    "    if last_valid_index is not None:\n",
    "        return pd.Series([int(last_valid_index[2:]), row[last_valid_index]])\n",
    "    else:\n",
    "        return pd.Series([None, None])\n",
    "\n",
    "for each in econ_dic:\n",
    "    if each in ['Use of IMF credit (DOD, current US$)', 'Total reserves (includes gold, current US$)']:\n",
    "        latest_data = econ_dic[each].apply(get_latest_year_and_value_log, axis=1)\n",
    "        latest_data.columns = ['Latest Year', 'Value']\n",
    "        new_econ_dict[each] = latest_data\n",
    "    else:\n",
    "        latest_data = econ_dic[each].apply(get_latest_year_and_value, axis=1)\n",
    "        latest_data.columns = ['Latest Year', 'Value']\n",
    "        new_econ_dict[each] = latest_data\n",
    "\n",
    "scaler = MinMaxScaler()\n",
    "\n",
    "for indicator, df in new_econ_dict.items():\n",
    "    # Reshape the 'value' column for the scaler\n",
    "    values = df['Value'].values.reshape(-1, 1)\n",
    "    normalized_values = scaler.fit_transform(values).flatten()\n",
    "    \n",
    "    # Replace the values in the DataFrame\n",
    "    df['Value'] = normalized_values\n"
   ]
  },
  {
   "cell_type": "code",
   "execution_count": 5,
   "metadata": {},
   "outputs": [],
   "source": [
    "final_structure = {}\n",
    "\n",
    "# Iterate through each indicator and its DataFrame\n",
    "for indicator, df in new_econ_dict.items():\n",
    "    for country_code in df.index:\n",
    "        # Check if the country code is already in the final structure\n",
    "        if country_code not in final_structure:\n",
    "            final_structure[country_code] = {}\n",
    "\n",
    "        # Get the latest year and value for the indicator\n",
    "        latest_year = df.loc[country_code, 'Latest Year']\n",
    "        latest_value = df.loc[country_code, 'Value']\n",
    "\n",
    "        # Add the data to the final structure\n",
    "        final_structure[country_code][indicator] = {\n",
    "            'latest_year': latest_year,\n",
    "            'latest_value': latest_value\n",
    "        }\n",
    "\n",
    "# The final_structure now has the desired format"
   ]
  },
  {
   "cell_type": "code",
   "execution_count": 6,
   "metadata": {},
   "outputs": [
    {
     "data": {
      "text/html": [
       "<div>\n",
       "<style scoped>\n",
       "    .dataframe tbody tr th:only-of-type {\n",
       "        vertical-align: middle;\n",
       "    }\n",
       "\n",
       "    .dataframe tbody tr th {\n",
       "        vertical-align: top;\n",
       "    }\n",
       "\n",
       "    .dataframe thead th {\n",
       "        text-align: right;\n",
       "    }\n",
       "</style>\n",
       "<table border=\"1\" class=\"dataframe\">\n",
       "  <thead>\n",
       "    <tr style=\"text-align: right;\">\n",
       "      <th></th>\n",
       "      <th>Country</th>\n",
       "      <th>Metric</th>\n",
       "      <th>Latest Year</th>\n",
       "      <th>Latest Value</th>\n",
       "    </tr>\n",
       "  </thead>\n",
       "  <tbody>\n",
       "    <tr>\n",
       "      <th>0</th>\n",
       "      <td>AGO</td>\n",
       "      <td>Use of IMF credit (DOD, current US$)</td>\n",
       "      <td>2022.0</td>\n",
       "      <td>0.255311</td>\n",
       "    </tr>\n",
       "    <tr>\n",
       "      <th>1</th>\n",
       "      <td>AGO</td>\n",
       "      <td>Official exchange rate (LCU per US$, period av...</td>\n",
       "      <td>2022.0</td>\n",
       "      <td>0.019808</td>\n",
       "    </tr>\n",
       "    <tr>\n",
       "      <th>2</th>\n",
       "      <td>AGO</td>\n",
       "      <td>Inflation, consumer prices (annual %)</td>\n",
       "      <td>2021.0</td>\n",
       "      <td>0.222973</td>\n",
       "    </tr>\n",
       "    <tr>\n",
       "      <th>3</th>\n",
       "      <td>AGO</td>\n",
       "      <td>Current account balance (% of GDP)</td>\n",
       "      <td>2022.0</td>\n",
       "      <td>0.954085</td>\n",
       "    </tr>\n",
       "    <tr>\n",
       "      <th>4</th>\n",
       "      <td>AGO</td>\n",
       "      <td>GDP per capita (current US$)</td>\n",
       "      <td>2022.0</td>\n",
       "      <td>0.211017</td>\n",
       "    </tr>\n",
       "  </tbody>\n",
       "</table>\n",
       "</div>"
      ],
      "text/plain": [
       "  Country                                             Metric  Latest Year  \\\n",
       "0     AGO               Use of IMF credit (DOD, current US$)       2022.0   \n",
       "1     AGO  Official exchange rate (LCU per US$, period av...       2022.0   \n",
       "2     AGO              Inflation, consumer prices (annual %)       2021.0   \n",
       "3     AGO                 Current account balance (% of GDP)       2022.0   \n",
       "4     AGO                       GDP per capita (current US$)       2022.0   \n",
       "\n",
       "   Latest Value  \n",
       "0      0.255311  \n",
       "1      0.019808  \n",
       "2      0.222973  \n",
       "3      0.954085  \n",
       "4      0.211017  "
      ]
     },
     "execution_count": 6,
     "metadata": {},
     "output_type": "execute_result"
    }
   ],
   "source": [
    "# Your JSON data\n",
    "data = final_structure\n",
    "\n",
    "# List to hold each row of the DataFrame\n",
    "data_rows = []\n",
    "\n",
    "# Iterate over each country and its metrics\n",
    "for country, metrics in data.items():\n",
    "    for metric_name, metric_details in metrics.items():\n",
    "        # Each row represents a country's metric for the latest year\n",
    "        row = {\n",
    "            'Country': country,\n",
    "            'Metric': metric_name,\n",
    "            'Latest Year': metric_details['latest_year'],\n",
    "            'Latest Value': metric_details['latest_value']\n",
    "        }\n",
    "        data_rows.append(row)\n",
    "\n",
    "# Convert the list of dictionaries to a pandas DataFrame\n",
    "df_econ = pd.DataFrame(data_rows)\n",
    "\n",
    "# Display the DataFrame\n",
    "df_econ.head()\n"
   ]
  },
  {
   "cell_type": "code",
   "execution_count": 8,
   "metadata": {},
   "outputs": [],
   "source": [
    "import json\n",
    "json_path = f'../../../datasets/dashboards/country_profiles/economy.json'\n",
    "with open(json_path, 'w') as f:\n",
    "    f.write(json.dumps(final_structure, indent=4))\n"
   ]
  },
  {
   "cell_type": "markdown",
   "metadata": {},
   "source": [
    "## Infrastructure Data"
   ]
  },
  {
   "cell_type": "code",
   "execution_count": 9,
   "metadata": {},
   "outputs": [],
   "source": [
    "# Rail lines (total route-km)\n",
    "rail = wb.data.DataFrame('IS.RRS.TOTL.KM', wb.region.members('AFR'))\n",
    "#  Fixed broadband subscriptions (per 100 people)\n",
    "broadband = wb.data.DataFrame('IT.NET.BBND.P2', wb.region.members('AFR'))\n",
    "# Renewable energy consumption (% of total final energy consumption)\n",
    "transport = wb.data.DataFrame('EG.FEC.RNEW.ZS', wb.region.members('AFR'))\n",
    "# Mobile cellular subscriptions (per 100 people)\n",
    "mobile = wb.data.DataFrame('IT.CEL.SETS.P2', wb.region.members('AFR'))\n",
    "# Air transport, registered carrier departures worldwide\n",
    "air = wb.data.DataFrame('IS.AIR.DPRT', wb.region.members('AFR'))\n",
    "# Access to electricity (% of population)\n",
    "pp_ict = wb.data.DataFrame('EG.ELC.ACCS.ZS', wb.region.members('AFR'))"
   ]
  },
  {
   "cell_type": "code",
   "execution_count": 10,
   "metadata": {},
   "outputs": [],
   "source": [
    "infra_dict = {\n",
    "    'Rail lines (total route-km)' : rail,\n",
    "    'Fixed broadband subscriptions (per 100 people)' : broadband, \n",
    "    'Renewable energy consumption (% of total final energy consumption)':transport, \n",
    "    'Mobile cellular subscriptions (per 100 people)': mobile, \n",
    "    'Air transport, registered carrier departures worldwide' :air, \n",
    "    'Access to electricity (% of population)' :pp_ict, \n",
    "}"
   ]
  },
  {
   "cell_type": "code",
   "execution_count": 11,
   "metadata": {},
   "outputs": [],
   "source": [
    "new_infra_dict = {}\n",
    "\n",
    "# Function to get the latest year and its value\n",
    "def get_latest_year_and_value(row):\n",
    "    last_valid_index = row.last_valid_index()\n",
    "    if last_valid_index is not None:\n",
    "        return pd.Series([int(last_valid_index[2:]), row[last_valid_index]])\n",
    "    else:\n",
    "        return pd.Series([None, None])\n",
    "\n",
    "# Function to get the latest year and its value\n",
    "def get_latest_year_and_value_log(row):\n",
    "    last_valid_index = row.last_valid_index()\n",
    "    if last_valid_index is not None:\n",
    "        return pd.Series([int(last_valid_index[2:]), row[last_valid_index]])\n",
    "    else:\n",
    "        return pd.Series([None, None])\n",
    "def get_latest_year_and_value(row):\n",
    "    last_valid_index = row.last_valid_index()\n",
    "    if last_valid_index is not None:\n",
    "        return pd.Series([int(last_valid_index[2:]), row[last_valid_index]])\n",
    "    else:\n",
    "        return pd.Series([None, None])\n",
    "\n",
    "for each in infra_dict:\n",
    "    if each in ['Investment in transport with private participation (current US$)', 'Air transport, registered carrier departures worldwide']:\n",
    "        latest_data = infra_dict[each].apply(get_latest_year_and_value_log, axis=1)\n",
    "        latest_data.columns = ['Latest Year', 'Value']\n",
    "        new_infra_dict[each] = latest_data\n",
    "    else:\n",
    "        latest_data = infra_dict[each].apply(get_latest_year_and_value, axis=1)\n",
    "        latest_data.columns = ['Latest Year', 'Value']\n",
    "        new_infra_dict[each] = latest_data\n",
    "scaler = MinMaxScaler()\n",
    "\n",
    "for indicator, df in new_infra_dict.items():\n",
    "    # Reshape the 'value' column for the scaler\n",
    "    values = df['Value'].values.reshape(-1, 1)\n",
    "    normalized_values = scaler.fit_transform(values).flatten()\n",
    "    \n",
    "    # Replace the values in the DataFrame\n",
    "    df['Value'] = normalized_values\n"
   ]
  },
  {
   "cell_type": "code",
   "execution_count": 12,
   "metadata": {},
   "outputs": [],
   "source": [
    "final_structure_infra = {}\n",
    "\n",
    "# Iterate through each indicator and its DataFrame\n",
    "for indicator, df in new_infra_dict.items():\n",
    "    for country_code in df.index:\n",
    "        # Check if the country code is already in the final structure\n",
    "        if country_code not in final_structure_infra:\n",
    "            final_structure_infra[country_code] = {}\n",
    "\n",
    "        # Get the latest year and value for the indicator\n",
    "        latest_year = df.loc[country_code, 'Latest Year']\n",
    "        latest_value = df.loc[country_code, 'Value']\n",
    "\n",
    "        # Add the data to the final structure\n",
    "        final_structure_infra[country_code][indicator] = {\n",
    "            'latest_year': latest_year,\n",
    "            'latest_value': latest_value\n",
    "        }\n",
    "\n",
    "# The final_structure now has the desired format"
   ]
  },
  {
   "cell_type": "code",
   "execution_count": 13,
   "metadata": {},
   "outputs": [],
   "source": [
    "json_path = f'../../../datasets/dashboards/country_profiles/infra.json'\n",
    "with open(json_path, 'w') as f:\n",
    "    f.write(json.dumps(final_structure_infra, indent=4))\n"
   ]
  },
  {
   "cell_type": "code",
   "execution_count": 14,
   "metadata": {},
   "outputs": [
    {
     "data": {
      "text/html": [
       "<div>\n",
       "<style scoped>\n",
       "    .dataframe tbody tr th:only-of-type {\n",
       "        vertical-align: middle;\n",
       "    }\n",
       "\n",
       "    .dataframe tbody tr th {\n",
       "        vertical-align: top;\n",
       "    }\n",
       "\n",
       "    .dataframe thead th {\n",
       "        text-align: right;\n",
       "    }\n",
       "</style>\n",
       "<table border=\"1\" class=\"dataframe\">\n",
       "  <thead>\n",
       "    <tr style=\"text-align: right;\">\n",
       "      <th></th>\n",
       "      <th>Country</th>\n",
       "      <th>Metric</th>\n",
       "      <th>Latest Year</th>\n",
       "      <th>Latest Value</th>\n",
       "    </tr>\n",
       "  </thead>\n",
       "  <tbody>\n",
       "    <tr>\n",
       "      <th>0</th>\n",
       "      <td>AGO</td>\n",
       "      <td>Rail lines (total route-km)</td>\n",
       "      <td>NaN</td>\n",
       "      <td>NaN</td>\n",
       "    </tr>\n",
       "    <tr>\n",
       "      <th>1</th>\n",
       "      <td>AGO</td>\n",
       "      <td>Fixed broadband subscriptions (per 100 people)</td>\n",
       "      <td>2022.0</td>\n",
       "      <td>0.011076</td>\n",
       "    </tr>\n",
       "    <tr>\n",
       "      <th>2</th>\n",
       "      <td>AGO</td>\n",
       "      <td>Renewable energy consumption (% of total final...</td>\n",
       "      <td>2020.0</td>\n",
       "      <td>0.633996</td>\n",
       "    </tr>\n",
       "    <tr>\n",
       "      <th>3</th>\n",
       "      <td>AGO</td>\n",
       "      <td>Mobile cellular subscriptions (per 100 people)</td>\n",
       "      <td>2022.0</td>\n",
       "      <td>0.213926</td>\n",
       "    </tr>\n",
       "    <tr>\n",
       "      <th>4</th>\n",
       "      <td>AGO</td>\n",
       "      <td>Air transport, registered carrier departures w...</td>\n",
       "      <td>2021.0</td>\n",
       "      <td>0.030160</td>\n",
       "    </tr>\n",
       "  </tbody>\n",
       "</table>\n",
       "</div>"
      ],
      "text/plain": [
       "  Country                                             Metric  Latest Year  \\\n",
       "0     AGO                        Rail lines (total route-km)          NaN   \n",
       "1     AGO     Fixed broadband subscriptions (per 100 people)       2022.0   \n",
       "2     AGO  Renewable energy consumption (% of total final...       2020.0   \n",
       "3     AGO     Mobile cellular subscriptions (per 100 people)       2022.0   \n",
       "4     AGO  Air transport, registered carrier departures w...       2021.0   \n",
       "\n",
       "   Latest Value  \n",
       "0           NaN  \n",
       "1      0.011076  \n",
       "2      0.633996  \n",
       "3      0.213926  \n",
       "4      0.030160  "
      ]
     },
     "execution_count": 14,
     "metadata": {},
     "output_type": "execute_result"
    }
   ],
   "source": [
    "# Your JSON data\n",
    "data = final_structure_infra\n",
    "\n",
    "# List to hold each row of the DataFrame\n",
    "data_rows = []\n",
    "\n",
    "# Iterate over each country and its metrics\n",
    "for country, metrics in data.items():\n",
    "    for metric_name, metric_details in metrics.items():\n",
    "        # Each row represents a country's metric for the latest year\n",
    "        row = {\n",
    "            'Country': country,\n",
    "            'Metric': metric_name,\n",
    "            'Latest Year': metric_details['latest_year'],\n",
    "            'Latest Value': metric_details['latest_value']\n",
    "        }\n",
    "        data_rows.append(row)\n",
    "\n",
    "# Convert the list of dictionaries to a pandas DataFrame\n",
    "df_infra = pd.DataFrame(data_rows)\n",
    "\n",
    "# Display the DataFrame\n",
    "df_infra.head()\n"
   ]
  },
  {
   "cell_type": "code",
   "execution_count": 15,
   "metadata": {},
   "outputs": [],
   "source": [
    "with pd.ExcelWriter(path=r'../../../datasets/dashboards/country_profiles/country_profiles.xlsx') as writer:\n",
    "    df_econ.to_excel(writer, sheet_name='economy')\n",
    "    df_infra.to_excel(writer, sheet_name='infrastructure')"
   ]
  },
  {
   "cell_type": "markdown",
   "metadata": {},
   "source": [
    "## Plots"
   ]
  },
  {
   "cell_type": "code",
   "execution_count": 17,
   "metadata": {},
   "outputs": [
    {
     "data": {
      "application/vnd.plotly.v1+json": {
       "config": {
        "plotlyServerURL": "https://plot.ly"
       },
       "data": [
        {
         "fill": "toself",
         "r": [
          0.1867172733436273,
          0.006013945628488715,
          0.10964466686137017,
          0.9465631776288292,
          0.3143312695020977,
          0.3708238589620661,
          0.22871959936485517,
          0.42052183899795426
         ],
         "theta": [
          "Use of IMF credit (DOD, current US$)",
          "Official exchange rate (LCU per US$, period average)",
          "Inflation, consumer prices (annual %)",
          "Current account balance (% of GDP)",
          "GDP per capita (current US$)",
          "Foreign direct investment, net inflows (BoP, current US$)",
          "Domestic credit to private sector (% of GDP)",
          "Unemployment, total (% of total labor force) (modeled ILO estimate)"
         ],
         "type": "scatterpolar"
        }
       ],
       "layout": {
        "polar": {
         "radialaxis": {
          "range": [
           0,
           0.9465631776288292
          ],
          "visible": true
         }
        },
        "showlegend": false,
        "template": {
         "data": {
          "bar": [
           {
            "error_x": {
             "color": "#2a3f5f"
            },
            "error_y": {
             "color": "#2a3f5f"
            },
            "marker": {
             "line": {
              "color": "#E5ECF6",
              "width": 0.5
             },
             "pattern": {
              "fillmode": "overlay",
              "size": 10,
              "solidity": 0.2
             }
            },
            "type": "bar"
           }
          ],
          "barpolar": [
           {
            "marker": {
             "line": {
              "color": "#E5ECF6",
              "width": 0.5
             },
             "pattern": {
              "fillmode": "overlay",
              "size": 10,
              "solidity": 0.2
             }
            },
            "type": "barpolar"
           }
          ],
          "carpet": [
           {
            "aaxis": {
             "endlinecolor": "#2a3f5f",
             "gridcolor": "white",
             "linecolor": "white",
             "minorgridcolor": "white",
             "startlinecolor": "#2a3f5f"
            },
            "baxis": {
             "endlinecolor": "#2a3f5f",
             "gridcolor": "white",
             "linecolor": "white",
             "minorgridcolor": "white",
             "startlinecolor": "#2a3f5f"
            },
            "type": "carpet"
           }
          ],
          "choropleth": [
           {
            "colorbar": {
             "outlinewidth": 0,
             "ticks": ""
            },
            "type": "choropleth"
           }
          ],
          "contour": [
           {
            "colorbar": {
             "outlinewidth": 0,
             "ticks": ""
            },
            "colorscale": [
             [
              0,
              "#0d0887"
             ],
             [
              0.1111111111111111,
              "#46039f"
             ],
             [
              0.2222222222222222,
              "#7201a8"
             ],
             [
              0.3333333333333333,
              "#9c179e"
             ],
             [
              0.4444444444444444,
              "#bd3786"
             ],
             [
              0.5555555555555556,
              "#d8576b"
             ],
             [
              0.6666666666666666,
              "#ed7953"
             ],
             [
              0.7777777777777778,
              "#fb9f3a"
             ],
             [
              0.8888888888888888,
              "#fdca26"
             ],
             [
              1,
              "#f0f921"
             ]
            ],
            "type": "contour"
           }
          ],
          "contourcarpet": [
           {
            "colorbar": {
             "outlinewidth": 0,
             "ticks": ""
            },
            "type": "contourcarpet"
           }
          ],
          "heatmap": [
           {
            "colorbar": {
             "outlinewidth": 0,
             "ticks": ""
            },
            "colorscale": [
             [
              0,
              "#0d0887"
             ],
             [
              0.1111111111111111,
              "#46039f"
             ],
             [
              0.2222222222222222,
              "#7201a8"
             ],
             [
              0.3333333333333333,
              "#9c179e"
             ],
             [
              0.4444444444444444,
              "#bd3786"
             ],
             [
              0.5555555555555556,
              "#d8576b"
             ],
             [
              0.6666666666666666,
              "#ed7953"
             ],
             [
              0.7777777777777778,
              "#fb9f3a"
             ],
             [
              0.8888888888888888,
              "#fdca26"
             ],
             [
              1,
              "#f0f921"
             ]
            ],
            "type": "heatmap"
           }
          ],
          "heatmapgl": [
           {
            "colorbar": {
             "outlinewidth": 0,
             "ticks": ""
            },
            "colorscale": [
             [
              0,
              "#0d0887"
             ],
             [
              0.1111111111111111,
              "#46039f"
             ],
             [
              0.2222222222222222,
              "#7201a8"
             ],
             [
              0.3333333333333333,
              "#9c179e"
             ],
             [
              0.4444444444444444,
              "#bd3786"
             ],
             [
              0.5555555555555556,
              "#d8576b"
             ],
             [
              0.6666666666666666,
              "#ed7953"
             ],
             [
              0.7777777777777778,
              "#fb9f3a"
             ],
             [
              0.8888888888888888,
              "#fdca26"
             ],
             [
              1,
              "#f0f921"
             ]
            ],
            "type": "heatmapgl"
           }
          ],
          "histogram": [
           {
            "marker": {
             "pattern": {
              "fillmode": "overlay",
              "size": 10,
              "solidity": 0.2
             }
            },
            "type": "histogram"
           }
          ],
          "histogram2d": [
           {
            "colorbar": {
             "outlinewidth": 0,
             "ticks": ""
            },
            "colorscale": [
             [
              0,
              "#0d0887"
             ],
             [
              0.1111111111111111,
              "#46039f"
             ],
             [
              0.2222222222222222,
              "#7201a8"
             ],
             [
              0.3333333333333333,
              "#9c179e"
             ],
             [
              0.4444444444444444,
              "#bd3786"
             ],
             [
              0.5555555555555556,
              "#d8576b"
             ],
             [
              0.6666666666666666,
              "#ed7953"
             ],
             [
              0.7777777777777778,
              "#fb9f3a"
             ],
             [
              0.8888888888888888,
              "#fdca26"
             ],
             [
              1,
              "#f0f921"
             ]
            ],
            "type": "histogram2d"
           }
          ],
          "histogram2dcontour": [
           {
            "colorbar": {
             "outlinewidth": 0,
             "ticks": ""
            },
            "colorscale": [
             [
              0,
              "#0d0887"
             ],
             [
              0.1111111111111111,
              "#46039f"
             ],
             [
              0.2222222222222222,
              "#7201a8"
             ],
             [
              0.3333333333333333,
              "#9c179e"
             ],
             [
              0.4444444444444444,
              "#bd3786"
             ],
             [
              0.5555555555555556,
              "#d8576b"
             ],
             [
              0.6666666666666666,
              "#ed7953"
             ],
             [
              0.7777777777777778,
              "#fb9f3a"
             ],
             [
              0.8888888888888888,
              "#fdca26"
             ],
             [
              1,
              "#f0f921"
             ]
            ],
            "type": "histogram2dcontour"
           }
          ],
          "mesh3d": [
           {
            "colorbar": {
             "outlinewidth": 0,
             "ticks": ""
            },
            "type": "mesh3d"
           }
          ],
          "parcoords": [
           {
            "line": {
             "colorbar": {
              "outlinewidth": 0,
              "ticks": ""
             }
            },
            "type": "parcoords"
           }
          ],
          "pie": [
           {
            "automargin": true,
            "type": "pie"
           }
          ],
          "scatter": [
           {
            "fillpattern": {
             "fillmode": "overlay",
             "size": 10,
             "solidity": 0.2
            },
            "type": "scatter"
           }
          ],
          "scatter3d": [
           {
            "line": {
             "colorbar": {
              "outlinewidth": 0,
              "ticks": ""
             }
            },
            "marker": {
             "colorbar": {
              "outlinewidth": 0,
              "ticks": ""
             }
            },
            "type": "scatter3d"
           }
          ],
          "scattercarpet": [
           {
            "marker": {
             "colorbar": {
              "outlinewidth": 0,
              "ticks": ""
             }
            },
            "type": "scattercarpet"
           }
          ],
          "scattergeo": [
           {
            "marker": {
             "colorbar": {
              "outlinewidth": 0,
              "ticks": ""
             }
            },
            "type": "scattergeo"
           }
          ],
          "scattergl": [
           {
            "marker": {
             "colorbar": {
              "outlinewidth": 0,
              "ticks": ""
             }
            },
            "type": "scattergl"
           }
          ],
          "scattermapbox": [
           {
            "marker": {
             "colorbar": {
              "outlinewidth": 0,
              "ticks": ""
             }
            },
            "type": "scattermapbox"
           }
          ],
          "scatterpolar": [
           {
            "marker": {
             "colorbar": {
              "outlinewidth": 0,
              "ticks": ""
             }
            },
            "type": "scatterpolar"
           }
          ],
          "scatterpolargl": [
           {
            "marker": {
             "colorbar": {
              "outlinewidth": 0,
              "ticks": ""
             }
            },
            "type": "scatterpolargl"
           }
          ],
          "scatterternary": [
           {
            "marker": {
             "colorbar": {
              "outlinewidth": 0,
              "ticks": ""
             }
            },
            "type": "scatterternary"
           }
          ],
          "surface": [
           {
            "colorbar": {
             "outlinewidth": 0,
             "ticks": ""
            },
            "colorscale": [
             [
              0,
              "#0d0887"
             ],
             [
              0.1111111111111111,
              "#46039f"
             ],
             [
              0.2222222222222222,
              "#7201a8"
             ],
             [
              0.3333333333333333,
              "#9c179e"
             ],
             [
              0.4444444444444444,
              "#bd3786"
             ],
             [
              0.5555555555555556,
              "#d8576b"
             ],
             [
              0.6666666666666666,
              "#ed7953"
             ],
             [
              0.7777777777777778,
              "#fb9f3a"
             ],
             [
              0.8888888888888888,
              "#fdca26"
             ],
             [
              1,
              "#f0f921"
             ]
            ],
            "type": "surface"
           }
          ],
          "table": [
           {
            "cells": {
             "fill": {
              "color": "#EBF0F8"
             },
             "line": {
              "color": "white"
             }
            },
            "header": {
             "fill": {
              "color": "#C8D4E3"
             },
             "line": {
              "color": "white"
             }
            },
            "type": "table"
           }
          ]
         },
         "layout": {
          "annotationdefaults": {
           "arrowcolor": "#2a3f5f",
           "arrowhead": 0,
           "arrowwidth": 1
          },
          "autotypenumbers": "strict",
          "coloraxis": {
           "colorbar": {
            "outlinewidth": 0,
            "ticks": ""
           }
          },
          "colorscale": {
           "diverging": [
            [
             0,
             "#8e0152"
            ],
            [
             0.1,
             "#c51b7d"
            ],
            [
             0.2,
             "#de77ae"
            ],
            [
             0.3,
             "#f1b6da"
            ],
            [
             0.4,
             "#fde0ef"
            ],
            [
             0.5,
             "#f7f7f7"
            ],
            [
             0.6,
             "#e6f5d0"
            ],
            [
             0.7,
             "#b8e186"
            ],
            [
             0.8,
             "#7fbc41"
            ],
            [
             0.9,
             "#4d9221"
            ],
            [
             1,
             "#276419"
            ]
           ],
           "sequential": [
            [
             0,
             "#0d0887"
            ],
            [
             0.1111111111111111,
             "#46039f"
            ],
            [
             0.2222222222222222,
             "#7201a8"
            ],
            [
             0.3333333333333333,
             "#9c179e"
            ],
            [
             0.4444444444444444,
             "#bd3786"
            ],
            [
             0.5555555555555556,
             "#d8576b"
            ],
            [
             0.6666666666666666,
             "#ed7953"
            ],
            [
             0.7777777777777778,
             "#fb9f3a"
            ],
            [
             0.8888888888888888,
             "#fdca26"
            ],
            [
             1,
             "#f0f921"
            ]
           ],
           "sequentialminus": [
            [
             0,
             "#0d0887"
            ],
            [
             0.1111111111111111,
             "#46039f"
            ],
            [
             0.2222222222222222,
             "#7201a8"
            ],
            [
             0.3333333333333333,
             "#9c179e"
            ],
            [
             0.4444444444444444,
             "#bd3786"
            ],
            [
             0.5555555555555556,
             "#d8576b"
            ],
            [
             0.6666666666666666,
             "#ed7953"
            ],
            [
             0.7777777777777778,
             "#fb9f3a"
            ],
            [
             0.8888888888888888,
             "#fdca26"
            ],
            [
             1,
             "#f0f921"
            ]
           ]
          },
          "colorway": [
           "#636efa",
           "#EF553B",
           "#00cc96",
           "#ab63fa",
           "#FFA15A",
           "#19d3f3",
           "#FF6692",
           "#B6E880",
           "#FF97FF",
           "#FECB52"
          ],
          "font": {
           "color": "#2a3f5f"
          },
          "geo": {
           "bgcolor": "white",
           "lakecolor": "white",
           "landcolor": "#E5ECF6",
           "showlakes": true,
           "showland": true,
           "subunitcolor": "white"
          },
          "hoverlabel": {
           "align": "left"
          },
          "hovermode": "closest",
          "mapbox": {
           "style": "light"
          },
          "paper_bgcolor": "white",
          "plot_bgcolor": "#E5ECF6",
          "polar": {
           "angularaxis": {
            "gridcolor": "white",
            "linecolor": "white",
            "ticks": ""
           },
           "bgcolor": "#E5ECF6",
           "radialaxis": {
            "gridcolor": "white",
            "linecolor": "white",
            "ticks": ""
           }
          },
          "scene": {
           "xaxis": {
            "backgroundcolor": "#E5ECF6",
            "gridcolor": "white",
            "gridwidth": 2,
            "linecolor": "white",
            "showbackground": true,
            "ticks": "",
            "zerolinecolor": "white"
           },
           "yaxis": {
            "backgroundcolor": "#E5ECF6",
            "gridcolor": "white",
            "gridwidth": 2,
            "linecolor": "white",
            "showbackground": true,
            "ticks": "",
            "zerolinecolor": "white"
           },
           "zaxis": {
            "backgroundcolor": "#E5ECF6",
            "gridcolor": "white",
            "gridwidth": 2,
            "linecolor": "white",
            "showbackground": true,
            "ticks": "",
            "zerolinecolor": "white"
           }
          },
          "shapedefaults": {
           "line": {
            "color": "#2a3f5f"
           }
          },
          "ternary": {
           "aaxis": {
            "gridcolor": "white",
            "linecolor": "white",
            "ticks": ""
           },
           "baxis": {
            "gridcolor": "white",
            "linecolor": "white",
            "ticks": ""
           },
           "bgcolor": "#E5ECF6",
           "caxis": {
            "gridcolor": "white",
            "linecolor": "white",
            "ticks": ""
           }
          },
          "title": {
           "x": 0.05
          },
          "xaxis": {
           "automargin": true,
           "gridcolor": "white",
           "linecolor": "white",
           "ticks": "",
           "title": {
            "standoff": 15
           },
           "zerolinecolor": "white",
           "zerolinewidth": 2
          },
          "yaxis": {
           "automargin": true,
           "gridcolor": "white",
           "linecolor": "white",
           "ticks": "",
           "title": {
            "standoff": 15
           },
           "zerolinecolor": "white",
           "zerolinewidth": 2
          }
         }
        },
        "title": {
         "text": "Radar Chart for DZA"
        }
       }
      }
     },
     "metadata": {},
     "output_type": "display_data"
    }
   ],
   "source": [
    "import plotly.graph_objs as go\n",
    "country = 'DZA'\n",
    "# Extract data for 'AGO'\n",
    "country_data = final_structure[country]\n",
    "\n",
    "# Prepare data for the radar chart\n",
    "categories = list(country_data.keys())  # Indicator names\n",
    "values = [data['latest_value'] for data in country_data.values()]  # Latest values for each indicator\n",
    "\n",
    "# Create the radar chart\n",
    "fig = go.Figure()\n",
    "\n",
    "fig.add_trace(go.Scatterpolar(\n",
    "    r=values,\n",
    "    theta=categories,\n",
    "    fill='toself'\n",
    "))\n",
    "\n",
    "# Update the layout\n",
    "fig.update_layout(\n",
    "    polar=dict(\n",
    "        radialaxis=dict(\n",
    "            visible=True,\n",
    "            range=[0, max(values)]  # Adjust the range as needed\n",
    "        )),\n",
    "    showlegend=False,\n",
    "    title=f\"Radar Chart for {country}\"\n",
    ")\n",
    "\n",
    "# Show the plot\n",
    "fig.show()\n"
   ]
  }
 ],
 "metadata": {
  "kernelspec": {
   "display_name": "Python 3",
   "language": "python",
   "name": "python3"
  },
  "language_info": {
   "codemirror_mode": {
    "name": "ipython",
    "version": 3
   },
   "file_extension": ".py",
   "mimetype": "text/x-python",
   "name": "python",
   "nbconvert_exporter": "python",
   "pygments_lexer": "ipython3",
   "version": "3.12.5"
  }
 },
 "nbformat": 4,
 "nbformat_minor": 2
}
