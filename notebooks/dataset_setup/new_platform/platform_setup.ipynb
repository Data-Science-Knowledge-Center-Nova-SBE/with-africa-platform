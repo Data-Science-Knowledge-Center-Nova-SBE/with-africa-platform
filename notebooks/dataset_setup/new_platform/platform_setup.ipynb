{
 "cells": [
  {
   "cell_type": "code",
   "execution_count": 5,
   "metadata": {},
   "outputs": [],
   "source": [
    "import pandas as pd\n",
    "import json"
   ]
  },
  {
   "cell_type": "markdown",
   "metadata": {},
   "source": [
    "### DDT"
   ]
  },
  {
   "cell_type": "code",
   "execution_count": 6,
   "metadata": {},
   "outputs": [],
   "source": [
    "ddt_df = pd.read_excel('../../../datasets/new_platform/ddt/ddt_comp_with_sim.xlsx', index_col=0)\n",
    "ddt_df = ddt_df.drop(columns=['sim_indic_1'\t,'sim_indic_2',\t'sim_indic_3'])\n"
   ]
  },
  {
   "cell_type": "code",
   "execution_count": 7,
   "metadata": {},
   "outputs": [
    {
     "data": {
      "text/html": [
       "<div>\n",
       "<style scoped>\n",
       "    .dataframe tbody tr th:only-of-type {\n",
       "        vertical-align: middle;\n",
       "    }\n",
       "\n",
       "    .dataframe tbody tr th {\n",
       "        vertical-align: top;\n",
       "    }\n",
       "\n",
       "    .dataframe thead th {\n",
       "        text-align: right;\n",
       "    }\n",
       "</style>\n",
       "<table border=\"1\" class=\"dataframe\">\n",
       "  <thead>\n",
       "    <tr style=\"text-align: right;\">\n",
       "      <th></th>\n",
       "      <th>iso3_country_code</th>\n",
       "      <th>indicator_year</th>\n",
       "      <th>indicator_value</th>\n",
       "      <th>indicator_ddt_name</th>\n",
       "      <th>indicator_source</th>\n",
       "      <th>indicator_ddt_cat</th>\n",
       "      <th>country_name</th>\n",
       "      <th>region_name</th>\n",
       "      <th>units</th>\n",
       "      <th>on_page</th>\n",
       "      <th>on_viz</th>\n",
       "    </tr>\n",
       "  </thead>\n",
       "  <tbody>\n",
       "    <tr>\n",
       "      <th>0</th>\n",
       "      <td>DZA</td>\n",
       "      <td>1995</td>\n",
       "      <td>520.0</td>\n",
       "      <td>Total International Arrivals</td>\n",
       "      <td>UNWTO</td>\n",
       "      <td>Inbound Tourism-Arrivals</td>\n",
       "      <td>Algeria</td>\n",
       "      <td>Northern Africa</td>\n",
       "      <td>Thousands</td>\n",
       "      <td>Data Discovery Tool</td>\n",
       "      <td>Data Discovery Tool</td>\n",
       "    </tr>\n",
       "    <tr>\n",
       "      <th>1</th>\n",
       "      <td>BEN</td>\n",
       "      <td>1995</td>\n",
       "      <td>580.0</td>\n",
       "      <td>Total International Arrivals</td>\n",
       "      <td>UNWTO</td>\n",
       "      <td>Inbound Tourism-Arrivals</td>\n",
       "      <td>Benin</td>\n",
       "      <td>Western Africa</td>\n",
       "      <td>Thousands</td>\n",
       "      <td>Data Discovery Tool</td>\n",
       "      <td>Data Discovery Tool</td>\n",
       "    </tr>\n",
       "  </tbody>\n",
       "</table>\n",
       "</div>"
      ],
      "text/plain": [
       "  iso3_country_code  indicator_year  indicator_value  \\\n",
       "0               DZA            1995            520.0   \n",
       "1               BEN            1995            580.0   \n",
       "\n",
       "             indicator_ddt_name indicator_source         indicator_ddt_cat  \\\n",
       "0  Total International Arrivals            UNWTO  Inbound Tourism-Arrivals   \n",
       "1  Total International Arrivals            UNWTO  Inbound Tourism-Arrivals   \n",
       "\n",
       "  country_name      region_name      units              on_page  \\\n",
       "0      Algeria  Northern Africa  Thousands  Data Discovery Tool   \n",
       "1        Benin   Western Africa  Thousands  Data Discovery Tool   \n",
       "\n",
       "                on_viz  \n",
       "0  Data Discovery Tool  \n",
       "1  Data Discovery Tool  "
      ]
     },
     "execution_count": 7,
     "metadata": {},
     "output_type": "execute_result"
    }
   ],
   "source": [
    "\n",
    "ddt_df['on_page'] = 'Data Discovery Tool'\n",
    "ddt_df['on_viz'] = 'Data Discovery Tool'\n",
    "ddt_df.head(2)"
   ]
  },
  {
   "cell_type": "code",
   "execution_count": 8,
   "metadata": {},
   "outputs": [],
   "source": [
    "count_region = ddt_df[['country_name','iso3_country_code', \t'region_name']].drop_duplicates().reset_index().drop(columns=['index'])"
   ]
  },
  {
   "cell_type": "markdown",
   "metadata": {},
   "source": [
    "### Country Profiles"
   ]
  },
  {
   "cell_type": "code",
   "execution_count": 9,
   "metadata": {},
   "outputs": [],
   "source": [
    "econ_df = pd.read_excel('../../../datasets/new_platform/country_profiles/country_profiles.xlsx', sheet_name=0, index_col=0)\n",
    "infra_df = pd.read_excel('../../../datasets/new_platform/country_profiles/country_profiles.xlsx',  sheet_name=1, index_col=0)\n",
    "#--------\n",
    "econ_df.rename(columns={'Country' :'iso3_country_code' , 'Metric' : 'indicator_ddt_name', 'Latest Year': 'indicator_year', 'Latest Value' : 'indicator_value'}, inplace=True)\n",
    "econ_df = econ_df.merge(count_region, on='iso3_country_code', how='left')\n",
    "econ_df['indicator_source'] = 'World Bank'\n",
    "econ_df['indicator_ddt_cat'] = ''\n",
    "econ_df['units'] = ''\n",
    "econ_df['on_page'] = 'Country Profiles'\n",
    "econ_df['on_viz'] = 'Economy'\n",
    "#------\n",
    "\n",
    "infra_df.rename(columns={'Country' :'iso3_country_code' , 'Metric' : 'indicator_ddt_name', 'Latest Year': 'indicator_year', 'Latest Value' : 'indicator_value'}, inplace=True)\n",
    "infra_df = infra_df.merge(count_region, on='iso3_country_code', how='left')\n",
    "infra_df['indicator_source'] = 'World Bank'\n",
    "infra_df['indicator_ddt_cat'] = ''\n",
    "infra_df['units'] = ''\n",
    "infra_df['on_page'] = 'Country Profiles'\n",
    "infra_df['on_viz'] = 'Infrastructure'"
   ]
  },
  {
   "cell_type": "markdown",
   "metadata": {},
   "source": [
    "#### Un Sites\n",
    "Keep Cultural as separate excel file due to different structure and static nature. "
   ]
  },
  {
   "cell_type": "markdown",
   "metadata": {},
   "source": [
    "### Bubble Dataset"
   ]
  },
  {
   "cell_type": "markdown",
   "metadata": {},
   "source": [
    "#### Inbound Expenditure Percentage"
   ]
  },
  {
   "cell_type": "code",
   "execution_count": 10,
   "metadata": {},
   "outputs": [],
   "source": [
    "inbdound_expend_2011 = ddt_df.query(\"\"\" indicator_year == 2012 &  indicator_ddt_name == 'Total Expenditure on Inbound Tourism' & indicator_source == 'UNWTO' \"\"\").copy()\n",
    "inbdound_expend_2021 = ddt_df.query(\"\"\" indicator_year == 2022 &  indicator_ddt_name == 'Total Expenditure on Inbound Tourism' & indicator_source == 'UNWTO' \"\"\").copy()\n",
    "inbdound_expend_2021.rename(columns={'indicator_value' : 'expend_inbound_total_2022'}, inplace=True)\n",
    "inbdound_expend_2011.rename(columns={'indicator_value' : 'expend_inbound_total_2011'}, inplace=True)\n",
    "\n",
    "inbdound_expend_2021 = inbdound_expend_2021.merge(inbdound_expend_2011[['iso3_country_code', 'expend_inbound_total_2011']], on=['iso3_country_code'])\n",
    "inbdound_expend_2021['indicator_value'] = (inbdound_expend_2021['expend_inbound_total_2022'].astype(float) / inbdound_expend_2021['expend_inbound_total_2011'].astype(float)) * 100\n"
   ]
  },
  {
   "cell_type": "code",
   "execution_count": 11,
   "metadata": {},
   "outputs": [],
   "source": [
    "inbdound_expend_2021 = inbdound_expend_2021[ddt_df.columns.to_list()]"
   ]
  },
  {
   "cell_type": "code",
   "execution_count": 12,
   "metadata": {},
   "outputs": [],
   "source": [
    "inbdound_expend_2021.loc[:,'units'] = 'Percentage'\n",
    "inbdound_expend_2021.loc[:,'on_page'] = 'Rising Tides'\n",
    "inbdound_expend_2021.loc[:,'on_viz'] = 'Bubbles'\n",
    "inbdound_expend_2021.loc[:,'indicator_ddt_name'] =  'Growth in Total Expenditure on Inbound Tourism 2022 (as a percentage of 2012)'\n",
    "inbdound_expend_2021.loc[:,'indicator_ddt_cat'] = ''"
   ]
  },
  {
   "cell_type": "markdown",
   "metadata": {},
   "source": [
    "#### Inbound Arrivals Percentage"
   ]
  },
  {
   "cell_type": "code",
   "execution_count": 13,
   "metadata": {},
   "outputs": [],
   "source": [
    "inbdound_arr_2011 = ddt_df.query(\"\"\" indicator_year == 2012 &  indicator_ddt_name == 'Total International Arrivals' & indicator_source == 'UNWTO' \"\"\").copy()\n",
    "inbdound_arr_2021 = ddt_df.query(\"\"\" indicator_year == 2022 &  indicator_ddt_name ==  'Total International Arrivals' & indicator_source == 'UNWTO' \"\"\").copy()\n",
    "inbdound_arr_2021.rename(columns={'indicator_value' : 'arr_inbound_total_2022'}, inplace=True)\n",
    "inbdound_arr_2011.rename(columns={'indicator_value' : 'earr_inbound_total_2012'}, inplace=True)\n",
    "\n",
    "inbdound_arr_2021 = inbdound_arr_2021.merge(inbdound_arr_2011[['iso3_country_code', 'earr_inbound_total_2012']], on=['iso3_country_code'])\n",
    "inbdound_arr_2021['indicator_value'] = (inbdound_arr_2021['arr_inbound_total_2022'].astype(float) / inbdound_arr_2021['earr_inbound_total_2012'].astype(float)) * 100\n"
   ]
  },
  {
   "cell_type": "code",
   "execution_count": 14,
   "metadata": {},
   "outputs": [],
   "source": [
    "inbdound_arr_2021 = inbdound_arr_2021[ddt_df.columns.to_list()]"
   ]
  },
  {
   "cell_type": "code",
   "execution_count": 15,
   "metadata": {},
   "outputs": [],
   "source": [
    "inbdound_arr_2021.loc[:,'units'] = 'Percentage'\n",
    "inbdound_arr_2021.loc[:,'on_page'] = 'Rising Tides'\n",
    "inbdound_arr_2021.loc[:,'on_viz'] = 'Bubbles'\n",
    "inbdound_arr_2021.loc[:,'indicator_ddt_name'] =  'Growth in International Arrivals 2022 (as a percentage of 2012)'\n",
    "inbdound_arr_2021.loc[:,'indicator_ddt_cat'] = ''"
   ]
  },
  {
   "cell_type": "markdown",
   "metadata": {},
   "source": [
    "#### Continent"
   ]
  },
  {
   "cell_type": "code",
   "execution_count": 16,
   "metadata": {},
   "outputs": [],
   "source": [
    "df_cont = ddt_df[ ddt_df['indicator_ddt_name'].isin([       'Total Travelers Originating From Africa',\n",
    "       'Total Travelers Originating From Americas',\n",
    "       'Total Travelers Originating From East Asia and the Pacific',\n",
    "       'Total Travelers Originating From Europe',\n",
    "       'Total Travelers Originating From Middle East',\n",
    "       'Total Travelers Originating From Other not classified',\n",
    "       'Total Travelers Originating From of which, nationals residing abroad',\n",
    "       'Total Travelers Originating From South Asia'])]\n",
    "df_cont = df_cont.query(\"\"\" indicator_year == 2021\"\"\")\n",
    "df_cont_pivot = df_cont.pivot_table(index=['iso3_country_code','country_name','indicator_year', 'region_name'],\n",
    "                                     columns='indicator_ddt_name', \n",
    "                                     values='indicator_value').reset_index()\n",
    "df_cont_pivot = df_cont_pivot.reset_index().drop(columns=['iso3_country_code','country_name','indicator_year', 'region_name', 'index'])\n",
    "cont_2021_thousands = pd.DataFrame(df_cont_pivot.sum()).reset_index().rename(columns={0 : 'indicator_value'})"
   ]
  },
  {
   "cell_type": "code",
   "execution_count": 17,
   "metadata": {},
   "outputs": [
    {
     "data": {
      "text/html": [
       "<div>\n",
       "<style scoped>\n",
       "    .dataframe tbody tr th:only-of-type {\n",
       "        vertical-align: middle;\n",
       "    }\n",
       "\n",
       "    .dataframe tbody tr th {\n",
       "        vertical-align: top;\n",
       "    }\n",
       "\n",
       "    .dataframe thead th {\n",
       "        text-align: right;\n",
       "    }\n",
       "</style>\n",
       "<table border=\"1\" class=\"dataframe\">\n",
       "  <thead>\n",
       "    <tr style=\"text-align: right;\">\n",
       "      <th></th>\n",
       "      <th>indicator_ddt_name</th>\n",
       "      <th>indicator_value</th>\n",
       "    </tr>\n",
       "  </thead>\n",
       "  <tbody>\n",
       "    <tr>\n",
       "      <th>0</th>\n",
       "      <td>Total Travelers Originating From Africa (Sum -...</td>\n",
       "      <td>9278.751</td>\n",
       "    </tr>\n",
       "    <tr>\n",
       "      <th>1</th>\n",
       "      <td>Total Travelers Originating From Americas (Sum...</td>\n",
       "      <td>1215.174</td>\n",
       "    </tr>\n",
       "    <tr>\n",
       "      <th>2</th>\n",
       "      <td>Total Travelers Originating From East Asia and...</td>\n",
       "      <td>452.524</td>\n",
       "    </tr>\n",
       "    <tr>\n",
       "      <th>3</th>\n",
       "      <td>Total Travelers Originating From Europe (Sum -...</td>\n",
       "      <td>9298.240</td>\n",
       "    </tr>\n",
       "    <tr>\n",
       "      <th>4</th>\n",
       "      <td>Total Travelers Originating From Middle East (...</td>\n",
       "      <td>2659.916</td>\n",
       "    </tr>\n",
       "    <tr>\n",
       "      <th>5</th>\n",
       "      <td>Total Travelers Originating From Other not cla...</td>\n",
       "      <td>4375.228</td>\n",
       "    </tr>\n",
       "    <tr>\n",
       "      <th>6</th>\n",
       "      <td>Total Travelers Originating From South Asia (S...</td>\n",
       "      <td>324.956</td>\n",
       "    </tr>\n",
       "    <tr>\n",
       "      <th>7</th>\n",
       "      <td>Total Travelers Originating From of which, nat...</td>\n",
       "      <td>4064.869</td>\n",
       "    </tr>\n",
       "  </tbody>\n",
       "</table>\n",
       "</div>"
      ],
      "text/plain": [
       "                                  indicator_ddt_name  indicator_value\n",
       "0  Total Travelers Originating From Africa (Sum -...         9278.751\n",
       "1  Total Travelers Originating From Americas (Sum...         1215.174\n",
       "2  Total Travelers Originating From East Asia and...          452.524\n",
       "3  Total Travelers Originating From Europe (Sum -...         9298.240\n",
       "4  Total Travelers Originating From Middle East (...         2659.916\n",
       "5  Total Travelers Originating From Other not cla...         4375.228\n",
       "6  Total Travelers Originating From South Asia (S...          324.956\n",
       "7  Total Travelers Originating From of which, nat...         4064.869"
      ]
     },
     "execution_count": 17,
     "metadata": {},
     "output_type": "execute_result"
    }
   ],
   "source": [
    "for i, row in cont_2021_thousands.iterrows():\n",
    "    s = row['indicator_ddt_name']\n",
    "    cont_2021_thousands.loc[i,'indicator_ddt_name'] = f'{s} (Sum - 2021)'\n",
    "cont_2021_thousands"
   ]
  },
  {
   "cell_type": "code",
   "execution_count": 18,
   "metadata": {},
   "outputs": [],
   "source": [
    "cont_2021_thousands.loc[:,'units'] = 'Thousands'\n",
    "cont_2021_thousands.loc[:,'on_page'] = 'Rising Tides'\n",
    "cont_2021_thousands.loc[:,'on_viz'] = 'Bubbles'\n",
    "cont_2021_thousands.loc[:,'indicator_ddt_cat'] = ''\n",
    "cont_2021_thousands.loc[:,'region_name'] = ''\n",
    "cont_2021_thousands.loc[:,'iso3_country_code'] = ''\n",
    "cont_2021_thousands.loc[:,'country_name'] = ''\n",
    "cont_2021_thousands.loc[:,'indicator_year'] = 2021\n",
    "cont_2021_thousands.loc[:,'indicator_source'] = 'UNWTO'\n"
   ]
  },
  {
   "cell_type": "markdown",
   "metadata": {},
   "source": [
    "#### Tourism Industries"
   ]
  },
  {
   "cell_type": "code",
   "execution_count": 19,
   "metadata": {},
   "outputs": [],
   "source": [
    "num_estab_2011 = ddt_df.query(\"\"\" indicator_year == 2012 &  indicator_ddt_name == 'Total Number of Establishments' & indicator_source == 'UNWTO' \"\"\").copy()\n",
    "num_estab_2021 = ddt_df.query(\"\"\" indicator_year == 2022 &  indicator_ddt_name ==  'Total Number of Establishments' & indicator_source == 'UNWTO' \"\"\").copy()\n",
    "num_estab_2021.rename(columns={'indicator_value' : 'num_estab_2021'}, inplace=True)\n",
    "num_estab_2011.rename(columns={'indicator_value' : 'num_estab_2012'}, inplace=True)\n",
    "\n",
    "num_estab_2021 = num_estab_2021.merge(num_estab_2011[['iso3_country_code', 'num_estab_2012']], on=['iso3_country_code'])\n",
    "num_estab_2021['indicator_value'] = (num_estab_2021['num_estab_2021'].astype(float) / num_estab_2021['num_estab_2012'].astype(float)) * 100\n",
    "\n"
   ]
  },
  {
   "cell_type": "code",
   "execution_count": 20,
   "metadata": {},
   "outputs": [],
   "source": [
    "num_estab_2021 = num_estab_2021[ddt_df.columns.to_list()]"
   ]
  },
  {
   "cell_type": "code",
   "execution_count": 21,
   "metadata": {},
   "outputs": [],
   "source": [
    "num_estab_2021.loc[:,'units'] = 'Percentage'\n",
    "num_estab_2021.loc[:,'on_page'] = 'Rising Tides'\n",
    "num_estab_2021.loc[:,'on_viz'] = 'Bubbles'\n",
    "num_estab_2021.loc[:,'indicator_ddt_name'] =  'Growth in Number of Tourism Establishments 2022 (as a percentage of 2012)'\n",
    "num_estab_2021.loc[:,'indicator_ddt_cat'] = ''"
   ]
  },
  {
   "cell_type": "markdown",
   "metadata": {},
   "source": [
    "#### Pop"
   ]
  },
  {
   "cell_type": "code",
   "execution_count": 22,
   "metadata": {},
   "outputs": [],
   "source": [
    "df_pop= pd.read_excel(r'../../../datasets/dashboards/country_cultural.xlsx', sheet_name=5)\n",
    "df_pop = df_pop[['iso3', 'population']]\n",
    "df_pop.rename(columns={'iso3' : 'iso3_country_code'}, inplace=True)\n",
    "\n",
    "employ_2022 = ddt_df.query(\"\"\" indicator_year == 2021 &  indicator_ddt_name == 'Total (Employment)' & indicator_source == 'UNWTO' \"\"\").copy()\n",
    "employ_2022['employment'] = employ_2022['indicator_value'] * 1000\n",
    "employ_2022 = employ_2022.merge(df_pop, on='iso3_country_code', how='left')\n",
    "employ_2022['indicator_value'] = (employ_2022['employment'].astype(float) / employ_2022['population'].astype(float)) * 100\n",
    "\n",
    "employ_2022 = employ_2022[ddt_df.columns.to_list()]\n",
    "\n",
    "employ_2022.loc[:,'units'] = 'Percentage'\n",
    "employ_2022.loc[:,'on_page'] = 'Rising Tides'\n",
    "employ_2022.loc[:,'on_viz'] = 'Bubbles'\n",
    "employ_2022.loc[:,'indicator_ddt_name'] =  'Percentage of the Population Employed in Tourism'\n",
    "employ_2022.loc[:,'indicator_ddt_cat'] = ''"
   ]
  },
  {
   "cell_type": "code",
   "execution_count": 23,
   "metadata": {},
   "outputs": [],
   "source": [
    "employ_2022 = employ_2022.drop_duplicates()\n"
   ]
  },
  {
   "cell_type": "markdown",
   "metadata": {},
   "source": [
    "### Business"
   ]
  },
  {
   "cell_type": "code",
   "execution_count": 24,
   "metadata": {},
   "outputs": [],
   "source": [
    "bus_indic = pd.read_excel('../../../datasets/indicators/bus_indx.xlsx', sheet_name=0, index_col=0)"
   ]
  },
  {
   "cell_type": "code",
   "execution_count": 27,
   "metadata": {},
   "outputs": [],
   "source": [
    "bus_indic['Business Cluster Group'] = pd.qcut(bus_indic['Composite Index'], q=4, labels=[4, 3, 2, 1])\n"
   ]
  },
  {
   "cell_type": "code",
   "execution_count": 29,
   "metadata": {},
   "outputs": [],
   "source": [
    "bus_indic = bus_indic.drop(columns=[col for col in bus_indic.columns if col.startswith('Fact')])\n",
    "bus_indic = bus_indic.rename(columns={'Composite Index' : 'Business Connectivity Index (GBCI)', 'Rank' : 'Business Connectivity Index (GBCI) Rank'})\n"
   ]
  },
  {
   "cell_type": "code",
   "execution_count": 30,
   "metadata": {},
   "outputs": [],
   "source": [
    "bus_indic = pd.melt(\n",
    "    bus_indic, \n",
    "    id_vars=['iso3_country_code', 'country_name', 'region_name'],  # Columns to keep\n",
    "    var_name='indicator_ddt_name',  # The new column name for previous column headers\n",
    "    value_name='indicator_value'  # The new column name for values\n",
    ")"
   ]
  },
  {
   "cell_type": "code",
   "execution_count": 31,
   "metadata": {},
   "outputs": [],
   "source": [
    "bus_indic.loc[:,'units'] = ''\n",
    "bus_indic.loc[:,'on_page'] = 'Rising Tides'\n",
    "bus_indic.loc[:,'on_viz'] = 'Bubbles'\n",
    "bus_indic.loc[:,'indicator_ddt_cat'] = ''\n",
    "bus_indic.loc[:,'indicator_year'] = 2024\n",
    "bus_indic.loc[:,'indicator_source'] = 'With Africa'\n"
   ]
  },
  {
   "cell_type": "markdown",
   "metadata": {},
   "source": [
    "### Cluster"
   ]
  },
  {
   "cell_type": "code",
   "execution_count": 32,
   "metadata": {},
   "outputs": [],
   "source": [
    "cluster = pd.read_excel('../../../datasets/new_platform/bubble/cluster_analysis.xlsx', index_col=0)"
   ]
  },
  {
   "cell_type": "code",
   "execution_count": 33,
   "metadata": {},
   "outputs": [],
   "source": [
    "cluster.rename(columns={'Cluster' : 'Tourism Performance Classification', 'Tourism Category' : 'Tourism Performance Category'},inplace=True)\n"
   ]
  },
  {
   "cell_type": "code",
   "execution_count": 34,
   "metadata": {},
   "outputs": [],
   "source": [
    "cluster = pd.melt(\n",
    "    cluster, \n",
    "    id_vars=['iso3_country_code', 'country_name', 'region_name'],  # Columns to keep\n",
    "    var_name='indicator_ddt_name',  # The new column name for previous column headers\n",
    "    value_name='indicator_value'  # The new column name for values\n",
    ")"
   ]
  },
  {
   "cell_type": "code",
   "execution_count": 35,
   "metadata": {},
   "outputs": [],
   "source": [
    "cluster.loc[:,'units'] = ''\n",
    "cluster.loc[:,'on_page'] = 'Rising Tides'\n",
    "cluster.loc[:,'on_viz'] = 'Bubbles'\n",
    "cluster.loc[:,'indicator_ddt_cat'] = ''\n",
    "cluster.loc[:,'indicator_year'] = 2024\n",
    "cluster.loc[:,'indicator_source'] = ''\n"
   ]
  },
  {
   "cell_type": "markdown",
   "metadata": {},
   "source": [
    "### Missing\n",
    "1. Country Profiles - Cultural\n",
    "2. Ease of Access Dashboard\n",
    "3. About our Data"
   ]
  },
  {
   "cell_type": "code",
   "execution_count": 36,
   "metadata": {},
   "outputs": [],
   "source": [
    "wa_complete_db = pd.concat([ddt_df, econ_df, infra_df,inbdound_expend_2021, \n",
    "                             inbdound_arr_2021, cont_2021_thousands, num_estab_2021,\n",
    "                             employ_2022, bus_indic, cluster\n",
    "                            ])"
   ]
  },
  {
   "cell_type": "code",
   "execution_count": 37,
   "metadata": {},
   "outputs": [
    {
     "data": {
      "text/html": [
       "<div>\n",
       "<style scoped>\n",
       "    .dataframe tbody tr th:only-of-type {\n",
       "        vertical-align: middle;\n",
       "    }\n",
       "\n",
       "    .dataframe tbody tr th {\n",
       "        vertical-align: top;\n",
       "    }\n",
       "\n",
       "    .dataframe thead th {\n",
       "        text-align: right;\n",
       "    }\n",
       "</style>\n",
       "<table border=\"1\" class=\"dataframe\">\n",
       "  <thead>\n",
       "    <tr style=\"text-align: right;\">\n",
       "      <th></th>\n",
       "      <th>iso3_country_code</th>\n",
       "      <th>indicator_year</th>\n",
       "      <th>indicator_value</th>\n",
       "      <th>indicator_ddt_name</th>\n",
       "      <th>indicator_source</th>\n",
       "      <th>indicator_ddt_cat</th>\n",
       "      <th>country_name</th>\n",
       "      <th>region_name</th>\n",
       "      <th>units</th>\n",
       "      <th>on_page</th>\n",
       "      <th>on_viz</th>\n",
       "    </tr>\n",
       "  </thead>\n",
       "  <tbody>\n",
       "    <tr>\n",
       "      <th>0</th>\n",
       "      <td>DZA</td>\n",
       "      <td>1995.0</td>\n",
       "      <td>520.0</td>\n",
       "      <td>Total International Arrivals</td>\n",
       "      <td>UNWTO</td>\n",
       "      <td>Inbound Tourism-Arrivals</td>\n",
       "      <td>Algeria</td>\n",
       "      <td>Northern Africa</td>\n",
       "      <td>Thousands</td>\n",
       "      <td>Data Discovery Tool</td>\n",
       "      <td>Data Discovery Tool</td>\n",
       "    </tr>\n",
       "    <tr>\n",
       "      <th>1</th>\n",
       "      <td>BEN</td>\n",
       "      <td>1995.0</td>\n",
       "      <td>580.0</td>\n",
       "      <td>Total International Arrivals</td>\n",
       "      <td>UNWTO</td>\n",
       "      <td>Inbound Tourism-Arrivals</td>\n",
       "      <td>Benin</td>\n",
       "      <td>Western Africa</td>\n",
       "      <td>Thousands</td>\n",
       "      <td>Data Discovery Tool</td>\n",
       "      <td>Data Discovery Tool</td>\n",
       "    </tr>\n",
       "    <tr>\n",
       "      <th>2</th>\n",
       "      <td>BWA</td>\n",
       "      <td>1995.0</td>\n",
       "      <td>636.0</td>\n",
       "      <td>Total International Arrivals</td>\n",
       "      <td>UNWTO</td>\n",
       "      <td>Inbound Tourism-Arrivals</td>\n",
       "      <td>Botswana</td>\n",
       "      <td>Southern Africa</td>\n",
       "      <td>Thousands</td>\n",
       "      <td>Data Discovery Tool</td>\n",
       "      <td>Data Discovery Tool</td>\n",
       "    </tr>\n",
       "    <tr>\n",
       "      <th>3</th>\n",
       "      <td>TCD</td>\n",
       "      <td>1995.0</td>\n",
       "      <td>58.0</td>\n",
       "      <td>Total International Arrivals</td>\n",
       "      <td>UNWTO</td>\n",
       "      <td>Inbound Tourism-Arrivals</td>\n",
       "      <td>Chad</td>\n",
       "      <td>Central Africa</td>\n",
       "      <td>Thousands</td>\n",
       "      <td>Data Discovery Tool</td>\n",
       "      <td>Data Discovery Tool</td>\n",
       "    </tr>\n",
       "    <tr>\n",
       "      <th>4</th>\n",
       "      <td>COD</td>\n",
       "      <td>1995.0</td>\n",
       "      <td>85.0</td>\n",
       "      <td>Total International Arrivals</td>\n",
       "      <td>UNWTO</td>\n",
       "      <td>Inbound Tourism-Arrivals</td>\n",
       "      <td>Congo (Democratic Republic of the)</td>\n",
       "      <td>Central Africa</td>\n",
       "      <td>Thousands</td>\n",
       "      <td>Data Discovery Tool</td>\n",
       "      <td>Data Discovery Tool</td>\n",
       "    </tr>\n",
       "    <tr>\n",
       "      <th>...</th>\n",
       "      <td>...</td>\n",
       "      <td>...</td>\n",
       "      <td>...</td>\n",
       "      <td>...</td>\n",
       "      <td>...</td>\n",
       "      <td>...</td>\n",
       "      <td>...</td>\n",
       "      <td>...</td>\n",
       "      <td>...</td>\n",
       "      <td>...</td>\n",
       "      <td>...</td>\n",
       "    </tr>\n",
       "    <tr>\n",
       "      <th>487</th>\n",
       "      <td>TGO</td>\n",
       "      <td>2024.0</td>\n",
       "      <td>Emerging Tourism Industry</td>\n",
       "      <td>Tourism Performance Category</td>\n",
       "      <td></td>\n",
       "      <td></td>\n",
       "      <td>Togo</td>\n",
       "      <td>Western Africa</td>\n",
       "      <td></td>\n",
       "      <td>Rising Tides</td>\n",
       "      <td>Bubbles</td>\n",
       "    </tr>\n",
       "    <tr>\n",
       "      <th>488</th>\n",
       "      <td>TUN</td>\n",
       "      <td>2024.0</td>\n",
       "      <td>Advancing Tourism Economy</td>\n",
       "      <td>Tourism Performance Category</td>\n",
       "      <td></td>\n",
       "      <td></td>\n",
       "      <td>Tunisia</td>\n",
       "      <td>Northern Africa</td>\n",
       "      <td></td>\n",
       "      <td>Rising Tides</td>\n",
       "      <td>Bubbles</td>\n",
       "    </tr>\n",
       "    <tr>\n",
       "      <th>489</th>\n",
       "      <td>UGA</td>\n",
       "      <td>2024.0</td>\n",
       "      <td>Advancing Tourism Economy</td>\n",
       "      <td>Tourism Performance Category</td>\n",
       "      <td></td>\n",
       "      <td></td>\n",
       "      <td>Uganda</td>\n",
       "      <td>Eastern Africa</td>\n",
       "      <td></td>\n",
       "      <td>Rising Tides</td>\n",
       "      <td>Bubbles</td>\n",
       "    </tr>\n",
       "    <tr>\n",
       "      <th>490</th>\n",
       "      <td>ZMB</td>\n",
       "      <td>2024.0</td>\n",
       "      <td>Advancing Tourism Economy</td>\n",
       "      <td>Tourism Performance Category</td>\n",
       "      <td></td>\n",
       "      <td></td>\n",
       "      <td>Zambia</td>\n",
       "      <td>Eastern Africa</td>\n",
       "      <td></td>\n",
       "      <td>Rising Tides</td>\n",
       "      <td>Bubbles</td>\n",
       "    </tr>\n",
       "    <tr>\n",
       "      <th>491</th>\n",
       "      <td>ZWE</td>\n",
       "      <td>2024.0</td>\n",
       "      <td>Nascent Tourism Market</td>\n",
       "      <td>Tourism Performance Category</td>\n",
       "      <td></td>\n",
       "      <td></td>\n",
       "      <td>Zimbabwe</td>\n",
       "      <td>Eastern Africa</td>\n",
       "      <td></td>\n",
       "      <td>Rising Tides</td>\n",
       "      <td>Bubbles</td>\n",
       "    </tr>\n",
       "  </tbody>\n",
       "</table>\n",
       "<p>43588 rows × 11 columns</p>\n",
       "</div>"
      ],
      "text/plain": [
       "    iso3_country_code  indicator_year            indicator_value  \\\n",
       "0                 DZA          1995.0                      520.0   \n",
       "1                 BEN          1995.0                      580.0   \n",
       "2                 BWA          1995.0                      636.0   \n",
       "3                 TCD          1995.0                       58.0   \n",
       "4                 COD          1995.0                       85.0   \n",
       "..                ...             ...                        ...   \n",
       "487               TGO          2024.0  Emerging Tourism Industry   \n",
       "488               TUN          2024.0  Advancing Tourism Economy   \n",
       "489               UGA          2024.0  Advancing Tourism Economy   \n",
       "490               ZMB          2024.0  Advancing Tourism Economy   \n",
       "491               ZWE          2024.0     Nascent Tourism Market   \n",
       "\n",
       "               indicator_ddt_name indicator_source         indicator_ddt_cat  \\\n",
       "0    Total International Arrivals            UNWTO  Inbound Tourism-Arrivals   \n",
       "1    Total International Arrivals            UNWTO  Inbound Tourism-Arrivals   \n",
       "2    Total International Arrivals            UNWTO  Inbound Tourism-Arrivals   \n",
       "3    Total International Arrivals            UNWTO  Inbound Tourism-Arrivals   \n",
       "4    Total International Arrivals            UNWTO  Inbound Tourism-Arrivals   \n",
       "..                            ...              ...                       ...   \n",
       "487  Tourism Performance Category                                              \n",
       "488  Tourism Performance Category                                              \n",
       "489  Tourism Performance Category                                              \n",
       "490  Tourism Performance Category                                              \n",
       "491  Tourism Performance Category                                              \n",
       "\n",
       "                           country_name      region_name      units  \\\n",
       "0                               Algeria  Northern Africa  Thousands   \n",
       "1                                 Benin   Western Africa  Thousands   \n",
       "2                              Botswana  Southern Africa  Thousands   \n",
       "3                                  Chad   Central Africa  Thousands   \n",
       "4    Congo (Democratic Republic of the)   Central Africa  Thousands   \n",
       "..                                  ...              ...        ...   \n",
       "487                                Togo   Western Africa              \n",
       "488                             Tunisia  Northern Africa              \n",
       "489                              Uganda   Eastern Africa              \n",
       "490                              Zambia   Eastern Africa              \n",
       "491                            Zimbabwe   Eastern Africa              \n",
       "\n",
       "                 on_page               on_viz  \n",
       "0    Data Discovery Tool  Data Discovery Tool  \n",
       "1    Data Discovery Tool  Data Discovery Tool  \n",
       "2    Data Discovery Tool  Data Discovery Tool  \n",
       "3    Data Discovery Tool  Data Discovery Tool  \n",
       "4    Data Discovery Tool  Data Discovery Tool  \n",
       "..                   ...                  ...  \n",
       "487         Rising Tides              Bubbles  \n",
       "488         Rising Tides              Bubbles  \n",
       "489         Rising Tides              Bubbles  \n",
       "490         Rising Tides              Bubbles  \n",
       "491         Rising Tides              Bubbles  \n",
       "\n",
       "[43588 rows x 11 columns]"
      ]
     },
     "execution_count": 37,
     "metadata": {},
     "output_type": "execute_result"
    }
   ],
   "source": [
    "wa_complete_db"
   ]
  },
  {
   "cell_type": "code",
   "execution_count": 38,
   "metadata": {},
   "outputs": [],
   "source": [
    "wa_complete_db.to_excel(r'../../../datasets/new_platform/wa_complete_db.xlsx')"
   ]
  },
  {
   "cell_type": "code",
   "execution_count": null,
   "metadata": {},
   "outputs": [],
   "source": []
  }
 ],
 "metadata": {
  "kernelspec": {
   "display_name": "Python 3",
   "language": "python",
   "name": "python3"
  },
  "language_info": {
   "codemirror_mode": {
    "name": "ipython",
    "version": 3
   },
   "file_extension": ".py",
   "mimetype": "text/x-python",
   "name": "python",
   "nbconvert_exporter": "python",
   "pygments_lexer": "ipython3",
   "version": "3.12.5"
  }
 },
 "nbformat": 4,
 "nbformat_minor": 2
}
